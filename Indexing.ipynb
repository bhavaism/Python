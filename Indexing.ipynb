{
 "cells": [
  {
   "cell_type": "code",
   "execution_count": 19,
   "id": "1c04735d-9ebd-4201-9ef8-219d074a6900",
   "metadata": {},
   "outputs": [
    {
     "name": "stdout",
     "output_type": "stream",
     "text": [
      "1\n",
      "1234\n",
      "5678\n",
      "5678_9012_3456\n",
      "13_6891_46\n",
      "146_136\n",
      "3456\n",
      "6543_2109_8765_4321\n"
     ]
    }
   ],
   "source": [
    "credit_number=\"1234_5678_9012_3456\"\n",
    "print(credit_number[0])\n",
    "print(credit_number[0:4]) \n",
    "print(credit_number[5:9])\n",
    "print(credit_number[5:])\n",
    "print(credit_number[::2])\n",
    "print(credit_number[::3])\n",
    "print(credit_number[-4:])\n",
    "print(credit_number[::-1])"
   ]
  },
  {
   "cell_type": "code",
   "execution_count": 37,
   "id": "81de13cb-0fdf-4283-85dd-06c4aa9c5208",
   "metadata": {},
   "outputs": [
    {
     "name": "stdout",
     "output_type": "stream",
     "text": [
      "t ic\n"
     ]
    }
   ],
   "source": [
    "a=\"computer science\"\n",
    "print(a[5:15:3])"
   ]
  },
  {
   "cell_type": "code",
   "execution_count": 39,
   "id": "417ad859-ff6f-49de-b48f-4ed2404f15b5",
   "metadata": {},
   "outputs": [
    {
     "name": "stdout",
     "output_type": "stream",
     "text": [
      "cmu\n"
     ]
    }
   ],
   "source": [
    "a=\"computer science\"\n",
    "print(a[0:5:2])"
   ]
  },
  {
   "cell_type": "code",
   "execution_count": 61,
   "id": "b28fe80c-1148-49a5-81ef-4740c9b831d6",
   "metadata": {},
   "outputs": [
    {
     "name": "stdout",
     "output_type": "stream",
     "text": [
      "ce\n"
     ]
    }
   ],
   "source": [
    "a=\"computer science\"\n",
    "print(a[10:13:2])"
   ]
  },
  {
   "cell_type": "code",
   "execution_count": 63,
   "id": "89404068-1773-4fec-817b-6a9bcb8a3a04",
   "metadata": {},
   "outputs": [
    {
     "name": "stdout",
     "output_type": "stream",
     "text": [
      "ese\n"
     ]
    }
   ],
   "source": [
    "a=\"computer science\"\n",
    "print(a[6:13:3])"
   ]
  },
  {
   "cell_type": "code",
   "execution_count": 65,
   "id": "6c920f46-9db0-4cab-99f9-5b6f15a2b940",
   "metadata": {},
   "outputs": [
    {
     "name": "stdout",
     "output_type": "stream",
     "text": [
      "tc\n"
     ]
    }
   ],
   "source": [
    "a=\"computer science\"\n",
    "print(a[5:11:5])"
   ]
  },
  {
   "cell_type": "code",
   "execution_count": 69,
   "id": "0dc73184-56d2-4f7a-9465-d2513b0c66a4",
   "metadata": {},
   "outputs": [
    {
     "name": "stdout",
     "output_type": "stream",
     "text": [
      "pese\n"
     ]
    }
   ],
   "source": [
    "a=\"computer science\"\n",
    "print(a[3:13:3])"
   ]
  },
  {
   "cell_type": "code",
   "execution_count": 71,
   "id": "d8a3af00-a6a7-416f-824e-55ea53f25b05",
   "metadata": {},
   "outputs": [
    {
     "name": "stdout",
     "output_type": "stream",
     "text": [
      "i\n"
     ]
    }
   ],
   "source": [
    "a=\"computer science\"\n",
    "print(a[11])"
   ]
  },
  {
   "cell_type": "code",
   "execution_count": 73,
   "id": "3f1e831e-1d73-4975-a214-b13937e7945e",
   "metadata": {},
   "outputs": [
    {
     "name": "stdout",
     "output_type": "stream",
     "text": [
      " \n"
     ]
    }
   ],
   "source": [
    "a=\"computer science\"\n",
    "print(a[8])"
   ]
  },
  {
   "cell_type": "code",
   "execution_count": 81,
   "id": "15521268-dfec-4473-b182-98f10b82fac8",
   "metadata": {},
   "outputs": [
    {
     "name": "stdin",
     "output_type": "stream",
     "text": [
      "Enter a string Bhavani\n"
     ]
    },
    {
     "name": "stdout",
     "output_type": "stream",
     "text": [
      "v\n"
     ]
    }
   ],
   "source": [
    "a=input(\"Enter a string\")\n",
    "b=len(a)//2\n",
    "print(a[b])"
   ]
  },
  {
   "cell_type": "code",
   "execution_count": 179,
   "id": "3abab7ce-50bf-44f7-9bbe-1896b9b5ae17",
   "metadata": {},
   "outputs": [
    {
     "name": "stdin",
     "output_type": "stream",
     "text": [
      "enter a string java\n",
      "enter a string groovy\n"
     ]
    },
    {
     "name": "stdout",
     "output_type": "stream",
     "text": [
      "java6groovy4\n"
     ]
    }
   ],
   "source": [
    "#Get two characters from user  example: \"java\" \"groovy\n",
    "a=input(\"enter a string\")\n",
    "b=input(\"enter a string\")\n",
    "c=len(a)\n",
    "d=len(b)\n",
    "e=a+str(d)+b+str(c)\n",
    "print(e)"
   ]
  },
  {
   "cell_type": "code",
   "execution_count": 211,
   "id": "c1eac36f-3455-4d02-9e1d-aa4a025f0833",
   "metadata": {},
   "outputs": [
    {
     "name": "stdin",
     "output_type": "stream",
     "text": [
      "enter a string python\n",
      "enter a string groovy\n"
     ]
    },
    {
     "name": "stdout",
     "output_type": "stream",
     "text": [
      "pytvy\n"
     ]
    }
   ],
   "source": [
    "#string1: encyclopedia\n",
    "#string2: social\n",
    "#output: encyclal\n",
    "a=input(\"enter a string\")\n",
    "b=input(\"enter a string\")\n",
    "c=len(a)//2\n",
    "d=len(b)//2\n",
    "e=(a[:c])\n",
    "f=(b[d+1:])\n",
    "print(e+f)"
   ]
  },
  {
   "cell_type": "code",
   "execution_count": 231,
   "id": "c33436ab-7cee-4e7b-9886-92c4a81b4ad0",
   "metadata": {},
   "outputs": [
    {
     "name": "stdin",
     "output_type": "stream",
     "text": [
      "enter a string india\n",
      "enter a string python\n"
     ]
    },
    {
     "name": "stdout",
     "output_type": "stream",
     "text": [
      "nito\n"
     ]
    }
   ],
   "source": [
    "#string1: india\n",
    "#string2: python\n",
    "#output: nito\n",
    "a=input(\"enter a string\")\n",
    "b=input(\"enter a string\")\n",
    "c=(a[0:2])\n",
    "d=(c[::-1])\n",
    "e=len(b)//2\n",
    "f=(b[e+1])\n",
    "g=(b[e-1])\n",
    "h=d+g+f\n",
    "print(h)"
   ]
  },
  {
   "cell_type": "code",
   "execution_count": 255,
   "id": "225cc894-3441-415a-b6d8-992b4592e6cc",
   "metadata": {},
   "outputs": [
    {
     "name": "stdin",
     "output_type": "stream",
     "text": [
      "enter a string animal\n",
      "enter a string hello\n"
     ]
    },
    {
     "name": "stdout",
     "output_type": "stream",
     "text": [
      "nael\n"
     ]
    }
   ],
   "source": [
    "#string1: animal\n",
    "#string2: hello\n",
    "#output:   nael\n",
    "#find center\n",
    "#find letter before center\n",
    "#find center\n",
    "#from center leave the first word\n",
    "#add everything\n",
    "a=input(\"enter a string\")\n",
    "b=input(\"enter a string\")\n",
    "c=len(a)//2\n",
    "d=(a[c+1])\n",
    "e=(a[c-2])\n",
    "f=len(b)//2\n",
    "g=(b[f+1])\n",
    "h=(b[f-1])\n",
    "print(e+d+h+g)"
   ]
  },
  {
   "cell_type": "code",
   "execution_count": 281,
   "id": "fb94d5e7-5f75-48f6-b9a2-a326eae7ae9c",
   "metadata": {},
   "outputs": [
    {
     "name": "stdin",
     "output_type": "stream",
     "text": [
      "enter a string master\n",
      "enter a string python\n"
     ]
    },
    {
     "name": "stdout",
     "output_type": "stream",
     "text": [
      "mason\n"
     ]
    }
   ],
   "source": [
    "#string1:  master\n",
    "#string2:  python\n",
    "#Output:  mason  (Concatenation of first part of string1 + second part od string 2)\n",
    "a=input(\"enter a string\")\n",
    "b=input(\"enter a string\")\n",
    "c=len(a)//2\n",
    "e=(a[:c])\n",
    "f=len(b)//2\n",
    "g=(b[f+1:])\n",
    "print(e+g)"
   ]
  },
  {
   "cell_type": "code",
   "execution_count": 305,
   "id": "a926feb1-6e1a-4476-ae58-6a5e84694a76",
   "metadata": {},
   "outputs": [
    {
     "name": "stdin",
     "output_type": "stream",
     "text": [
      "enter a string maths\n",
      "enter a string science\n",
      "enter a string tamil\n"
     ]
    },
    {
     "name": "stdout",
     "output_type": "stream",
     "text": [
      "mtsseetml\n"
     ]
    }
   ],
   "source": [
    "#mtsseetml \n",
    "a=input(\"enter a string\")\n",
    "b=input(\"enter a string\")\n",
    "c=input(\"enter a string\")\n",
    "d=(a[0])+a[len(a)//2]+(a[-1])\n",
    "e=(b[0])+b[len(b)//2]+(b[-1])\n",
    "f=(c[0])+c[len(c)//2]+(c[-1])\n",
    "print(d+e+f)"
   ]
  },
  {
   "cell_type": "code",
   "execution_count": 329,
   "id": "a9d2c94d-ce07-460f-ab64-459d74d3c4e8",
   "metadata": {},
   "outputs": [
    {
     "name": "stdin",
     "output_type": "stream",
     "text": [
      "enter a string python\n",
      "enter a string 7\n"
     ]
    },
    {
     "name": "stdout",
     "output_type": "stream",
     "text": [
      "pythonpythonpythonpythonpythonpythonpython777777\n"
     ]
    }
   ],
   "source": [
    "#\"python\" ===> pythonpythonpythonpythonpythonpythonpython777777\n",
    "a=input(\"enter a string\")\n",
    "b=input(\"enter a string\")\n",
    "c=a*7\n",
    "d=(b*6)\n",
    "print(c+str(d))"
   ]
  },
  {
   "cell_type": "code",
   "execution_count": 331,
   "id": "f51c4b03-cd3f-4e72-8853-f2703c50cdd5",
   "metadata": {},
   "outputs": [
    {
     "name": "stdin",
     "output_type": "stream",
     "text": [
      "enter a string perl\n",
      "enter a string 3\n"
     ]
    },
    {
     "name": "stdout",
     "output_type": "stream",
     "text": [
      "perlperlperl333\n"
     ]
    }
   ],
   "source": [
    "#\"perl\"   ===> perlperlperl3333\n",
    "a=input(\"enter a string\")\n",
    "b=input(\"enter a string\")\n",
    "c=a*3\n",
    "d=b*3\n",
    "print(c+str(d))"
   ]
  },
  {
   "cell_type": "code",
   "execution_count": 359,
   "id": "2a66cf50-fe97-4931-b3c6-441f5e8582ad",
   "metadata": {},
   "outputs": [
    {
     "name": "stdin",
     "output_type": "stream",
     "text": [
      "enter a string java\n",
      "enter a string gokul\n"
     ]
    },
    {
     "name": "stdout",
     "output_type": "stream",
     "text": [
      "j2ag3l\n"
     ]
    }
   ],
   "source": [
    "#Get two characters from user \"java\" \"gokul\"\n",
    "#j2ag3l\n",
    "a=input(\"enter a string\")\n",
    "b=input(\"enter a string\")\n",
    "c=len(a[1:-1])\n",
    "d=(a[0])+str(c)+(a[-1])\n",
    "e=len(b[1:-1])\n",
    "f=(b[0])+str(e)+(b[-1])\n",
    "print(d+f)"
   ]
  },
  {
   "cell_type": "code",
   "execution_count": 365,
   "id": "c5cc93bb-77c1-4cc1-b33c-03243397de84",
   "metadata": {},
   "outputs": [
    {
     "name": "stdin",
     "output_type": "stream",
     "text": [
      "enter a string science\n",
      "enter a string social\n"
     ]
    },
    {
     "name": "stdout",
     "output_type": "stream",
     "text": [
      "s5es4l\n"
     ]
    }
   ],
   "source": [
    "#\"science\" \"social\"\n",
    "#s5es4l\n",
    "a=input(\"enter a string\")\n",
    "b=input(\"enter a string\")\n",
    "c=len(a[1:-1])\n",
    "d=a[0]+str(c)+a[-1]\n",
    "e=len(b[1:-1])\n",
    "f=b[0]+str(e)+b[-1]\n",
    "print(d+f)"
   ]
  },
  {
   "cell_type": "code",
   "execution_count": 69,
   "id": "2ea8c295-0915-467b-a428-a357cd914321",
   "metadata": {},
   "outputs": [
    {
     "name": "stdin",
     "output_type": "stream",
     "text": [
      "enter a string python\n",
      "enter a string java\n"
     ]
    },
    {
     "name": "stdout",
     "output_type": "stream",
     "text": [
      "jythonpava64hv\n"
     ]
    }
   ],
   "source": [
    "#string1: python\n",
    "#String2: java\n",
    "#output ===> jythonpava64hv\n",
    "a=input(\"enter a string\")\n",
    "b=input(\"enter a string\")\n",
    "c=(a[1:])\n",
    "d=(b[1:])\n",
    "e=b[0]+(c)\n",
    "f=a[0]+(d)\n",
    "g=len(a)\n",
    "h=len(b)\n",
    "i=a[len(a)//2]\n",
    "j=b[len(b)//2]\n",
    "print(e+f+str(g)+str(h)+i+j)"
   ]
  },
  {
   "cell_type": "code",
   "execution_count": null,
   "id": "ef16f285-8c10-42ee-aa78-3fb77b2738ba",
   "metadata": {},
   "outputs": [],
   "source": []
  }
 ],
 "metadata": {
  "kernelspec": {
   "display_name": "Python [conda env:base] *",
   "language": "python",
   "name": "conda-base-py"
  },
  "language_info": {
   "codemirror_mode": {
    "name": "ipython",
    "version": 3
   },
   "file_extension": ".py",
   "mimetype": "text/x-python",
   "name": "python",
   "nbconvert_exporter": "python",
   "pygments_lexer": "ipython3",
   "version": "3.12.7"
  }
 },
 "nbformat": 4,
 "nbformat_minor": 5
}
