{
 "cells": [
  {
   "cell_type": "code",
   "execution_count": null,
   "id": "12429ab1-27ab-40b2-8e1c-04e9aa810b20",
   "metadata": {},
   "outputs": [],
   "source": [
    "#primer\n",
    "#anagram\n",
    "#palindrome\n",
    "#fibonacci\n",
    "#factorial\n",
    "#composite number\n",
    "#multiple\n",
    "#factors\n",
    "#lcm\n",
    "#gcd\n",
    "#armstrong"
   ]
  },
  {
   "cell_type": "code",
   "execution_count": 36,
   "id": "56fcd980-5d81-43d1-a738-2b45e49a0084",
   "metadata": {},
   "outputs": [
    {
     "name": "stdin",
     "output_type": "stream",
     "text": [
      "Enter a number:  12\n"
     ]
    },
    {
     "name": "stdout",
     "output_type": "stream",
     "text": [
      "Number is NOT a Prime number\n"
     ]
    }
   ],
   "source": [
    "#prime\n",
    "#For loop\n",
    "num = int(input(\"Enter a number: \"))\n",
    "count = 0\n",
    "if num < 2:\n",
    "    count += 1 \n",
    "else:\n",
    "    for i in range(2, num):\n",
    "        if num % i == 0:\n",
    "            count += 1 \n",
    "            break\n",
    "if count == 0:\n",
    "    print(\"Number is a Prime number\")\n",
    "else:\n",
    "    print(\"Number is NOT a Prime number\")"
   ]
  },
  {
   "cell_type": "code",
   "execution_count": 38,
   "id": "021aa17f-4c8f-452d-86ca-831c6cb69f84",
   "metadata": {},
   "outputs": [
    {
     "name": "stdin",
     "output_type": "stream",
     "text": [
      "Enter a number:  3\n"
     ]
    },
    {
     "name": "stdout",
     "output_type": "stream",
     "text": [
      "Number is a Prime number\n"
     ]
    }
   ],
   "source": [
    "#prime\n",
    "#while loop\n",
    "num = int(input(\"Enter a number: \"))\n",
    "count = 0\n",
    "i = 2\n",
    "if num < 2:\n",
    "    count += 1\n",
    "else:\n",
    "    while i < num:\n",
    "        if num % i == 0:\n",
    "            count += 1\n",
    "            break\n",
    "        i += 1\n",
    "\n",
    "if count == 0:\n",
    "    print(\"Number is a Prime number\")\n",
    "else:\n",
    "    print(\"Number is NOT a Prime number\")"
   ]
  },
  {
   "cell_type": "code",
   "execution_count": 56,
   "id": "5b7e874c-5b12-4976-9158-4c8341fa700f",
   "metadata": {},
   "outputs": [
    {
     "name": "stdin",
     "output_type": "stream",
     "text": [
      "Enter a String: top\n",
      "Enter a String: pot\n"
     ]
    },
    {
     "name": "stdout",
     "output_type": "stream",
     "text": [
      "st1 and st2 are True\n"
     ]
    }
   ],
   "source": [
    "#anagram\n",
    "#for loop\n",
    "st1=input(\"Enter a String:\")\n",
    "st2=input(\"Enter a String:\")\n",
    "a=sorted(st1)\n",
    "b=sorted(st2)\n",
    "anagram=True\n",
    "if len(a)!= len(b):\n",
    "    anagram=False\n",
    "else:\n",
    "    for i in range (len(a)):\n",
    "        if a[i]!=b[i]:\n",
    "            anagram=False\n",
    "            break\n",
    "print(\"st1 and st2 are\",c)"
   ]
  },
  {
   "cell_type": "code",
   "execution_count": 62,
   "id": "a52e4b1a-4b6c-4e4f-b120-e21b832e9835",
   "metadata": {},
   "outputs": [
    {
     "name": "stdin",
     "output_type": "stream",
     "text": [
      "Enter a String: Care\n",
      "Enter a String: Race\n"
     ]
    },
    {
     "name": "stdout",
     "output_type": "stream",
     "text": [
      "st1 and st2 are True\n"
     ]
    }
   ],
   "source": [
    "#anagram\n",
    "#while loop\n",
    "st1=input(\"Enter a String:\")\n",
    "st2=input(\"Enter a String:\")\n",
    "a=sorted(st1)\n",
    "b=sorted(st2)\n",
    "anagram=True\n",
    "i=0\n",
    "if len(a)!= len(b):\n",
    "    anagram=False\n",
    "else:\n",
    "    while i<(len(a)):\n",
    "        if a[i]!=b[i]:\n",
    "            anagram=False\n",
    "            break\n",
    "            i+=1\n",
    "print(\"st1 and st2 are\",c)"
   ]
  },
  {
   "cell_type": "code",
   "execution_count": 1,
   "id": "f3596e7a-3465-424e-b29f-3b2fbaa5970a",
   "metadata": {},
   "outputs": [
    {
     "name": "stdin",
     "output_type": "stream",
     "text": [
      "Enter a Number madam\n"
     ]
    },
    {
     "name": "stdout",
     "output_type": "stream",
     "text": [
      "Word is  palindrome\n"
     ]
    }
   ],
   "source": [
    "#palindrome\n",
    "#for loop\n",
    "a=input(\"Enter a Number\")\n",
    "palindrome=\"palindrome\"\n",
    "\n",
    "for i in range (len(a)//2):\n",
    "    if a[i]!=a[-(i+1)]:\n",
    "        palindrome=\"Not Palindrome\"\n",
    "        break\n",
    "print(\"Word is \",palindrome)"
   ]
  },
  {
   "cell_type": "code",
   "execution_count": 1,
   "id": "2c73eee7-190b-43d7-9072-1a1637e54cae",
   "metadata": {},
   "outputs": [
    {
     "name": "stdin",
     "output_type": "stream",
     "text": [
      "Enter a Number malayalam\n"
     ]
    },
    {
     "name": "stdout",
     "output_type": "stream",
     "text": [
      "Word is  palindrome\n"
     ]
    }
   ],
   "source": [
    "#palindrome\n",
    "#While loop\n",
    "a=input(\"Enter a Number\")\n",
    "i=0\n",
    "palindrome =\"palindrome\"\n",
    "while i<(len(a)//2):\n",
    "    if a[i]!=a[-(i+1)]:\n",
    "        palindrome =\"Not Palindrome\"\n",
    "        break\n",
    "    i+=1\n",
    "print(\"Word is \",palindrome)"
   ]
  },
  {
   "cell_type": "code",
   "execution_count": 17,
   "id": "68f05ccb-7fc2-4289-8d69-3446f23131a8",
   "metadata": {},
   "outputs": [
    {
     "name": "stdin",
     "output_type": "stream",
     "text": [
      "Enter a Number 8\n"
     ]
    },
    {
     "name": "stdout",
     "output_type": "stream",
     "text": [
      "Fibonacci sequence:\n",
      "011235813"
     ]
    }
   ],
   "source": [
    "#fibonacci\n",
    "#for loop\n",
    "n=int(input(\"Enter a Number\"))\n",
    "a=0\n",
    "b=1\n",
    "print(\"Fibonacci sequence:\")\n",
    "for i in range(n):\n",
    "    print(a,end=\"\")\n",
    "    a,b=b,a+b\n",
    "    count+=1"
   ]
  },
  {
   "cell_type": "code",
   "execution_count": null,
   "id": "63371bd6-a53f-4f1d-803f-eaec862c8ddc",
   "metadata": {},
   "outputs": [],
   "source": [
    "#fibonacci\n",
    "#while loop\n",
    "n=int(input(\"Enter a Number\"))\n",
    "a=0\n",
    "b=1\n",
    "count=0\n",
    "print(\"Fibonacci sequence:\")\n",
    "while count<n:\n",
    "    print(a,end=\"\")\n",
    "    a,b=b,a+b\n",
    "    "
   ]
  },
  {
   "cell_type": "code",
   "execution_count": 31,
   "id": "e9ba48cc-a2c7-4fbe-a7b4-ea7adb50f4a3",
   "metadata": {},
   "outputs": [
    {
     "name": "stdin",
     "output_type": "stream",
     "text": [
      "Enter a Number 8\n"
     ]
    },
    {
     "name": "stdout",
     "output_type": "stream",
     "text": [
      "Fibonacci sequence:\n",
      "011235813"
     ]
    }
   ],
   "source": [
    "#fibonacci\n",
    "#while loop\n",
    "n=int(input(\"Enter a Number\"))\n",
    "a=0\n",
    "b=1\n",
    "count=0\n",
    "print(\"Fibonacci sequence:\")\n",
    "\n",
    "while count<n:\n",
    "    print(a,end=\"\")\n",
    "    a,b=b,a+b\n",
    "    count += 1"
   ]
  },
  {
   "cell_type": "code",
   "execution_count": 31,
   "id": "79058d61-6f1d-43da-9a51-65e434141e66",
   "metadata": {},
   "outputs": [
    {
     "name": "stdin",
     "output_type": "stream",
     "text": [
      "Enter a Number 5\n"
     ]
    },
    {
     "name": "stdout",
     "output_type": "stream",
     "text": [
      "Factorial Value: 120\n"
     ]
    }
   ],
   "source": [
    "#factorial\n",
    "#for loop\n",
    "num=int(input(\"Enter a Number\"))\n",
    "fact=1\n",
    "for i in range(1,num+1):\n",
    "    fact=fact*i\n",
    "print(\"Factorial Value:\",fact)"
   ]
  },
  {
   "cell_type": "code",
   "execution_count": 3,
   "id": "b6aa054f-ae4d-4a0f-9df4-94d94ad140f5",
   "metadata": {},
   "outputs": [
    {
     "name": "stdin",
     "output_type": "stream",
     "text": [
      "Enter a Number 5\n"
     ]
    },
    {
     "name": "stdout",
     "output_type": "stream",
     "text": [
      "Factorial Value: 120\n"
     ]
    }
   ],
   "source": [
    "#factorial\n",
    "#while loop\n",
    "num = int(input(\"Enter a Number\"))\n",
    "fact=1\n",
    "i=1\n",
    "while i <= num:\n",
    "    fact = fact * i\n",
    "    i += 1\n",
    "print(\"Factorial Value:\", fact)"
   ]
  },
  {
   "cell_type": "code",
   "execution_count": 9,
   "id": "804fe38f-f482-4303-9cbd-eff13c330b8d",
   "metadata": {},
   "outputs": [
    {
     "name": "stdin",
     "output_type": "stream",
     "text": [
      "Enter a Number 2\n"
     ]
    },
    {
     "name": "stdout",
     "output_type": "stream",
     "text": [
      "It is not Composite Number\n"
     ]
    }
   ],
   "source": [
    "#composite number\n",
    "#for loop\n",
    "num = int(input(\"Enter a Number\"))\n",
    "i=2\n",
    "for i in range (2, num):\n",
    "    if num%i==0:\n",
    "        print(\"It is Composite Number\")\n",
    "        break\n",
    "else:\n",
    "    print(\"It is not Composite Number\")\n",
    "    "
   ]
  },
  {
   "cell_type": "code",
   "execution_count": 13,
   "id": "b62c5f0c-f338-47d7-b5cd-cb3893ae7bde",
   "metadata": {},
   "outputs": [
    {
     "name": "stdin",
     "output_type": "stream",
     "text": [
      "Enter a Number 15\n"
     ]
    },
    {
     "name": "stdout",
     "output_type": "stream",
     "text": [
      "It is Composite Number\n"
     ]
    }
   ],
   "source": [
    "#composite number\n",
    "#while loop\n",
    "num = int(input(\"Enter a Number\"))\n",
    "i=2\n",
    "for i in range (2, num):\n",
    "    if num%i==0:\n",
    "        print(\"It is Composite Number\")\n",
    "        break\n",
    "    i += 1\n",
    "else:\n",
    "    print(\"It is not Composite Number\")"
   ]
  },
  {
   "cell_type": "code",
   "execution_count": 15,
   "id": "80f2bff1-fbbd-43b2-a083-0e14b9b25b1d",
   "metadata": {},
   "outputs": [
    {
     "name": "stdout",
     "output_type": "stream",
     "text": [
      "1 x2= 2\n",
      "2 x2= 4\n",
      "3 x2= 6\n",
      "4 x2= 8\n",
      "5 x2= 10\n",
      "6 x2= 12\n",
      "7 x2= 14\n",
      "8 x2= 16\n",
      "9 x2= 18\n",
      "10 x2= 20\n"
     ]
    }
   ],
   "source": [
    "#multiple\n",
    "#for loop\n",
    "for a in range(1,11):\n",
    "    print(a,\"x2=\",a*2)"
   ]
  },
  {
   "cell_type": "code",
   "execution_count": 21,
   "id": "ee2d5d41-1a08-4e5d-8b28-c1ddbd579202",
   "metadata": {},
   "outputs": [
    {
     "name": "stdout",
     "output_type": "stream",
     "text": [
      "1 x2= 2\n",
      "2 x2= 4\n",
      "3 x2= 6\n",
      "4 x2= 8\n",
      "5 x2= 10\n",
      "6 x2= 12\n",
      "7 x2= 14\n",
      "8 x2= 16\n",
      "9 x2= 18\n",
      "10 x2= 20\n"
     ]
    }
   ],
   "source": [
    "#multiple\n",
    "#while loop\n",
    "i=1\n",
    "while i<=10:\n",
    "    print(i,\"x2=\",i*2)\n",
    "    i+=1"
   ]
  },
  {
   "cell_type": "code",
   "execution_count": 23,
   "id": "fa0af32d-cc23-4e27-8884-eaee945f4624",
   "metadata": {},
   "outputs": [
    {
     "name": "stdin",
     "output_type": "stream",
     "text": [
      "Enter a number 12\n"
     ]
    },
    {
     "name": "stdout",
     "output_type": "stream",
     "text": [
      "\n",
      "1\n",
      "2\n",
      "3\n",
      "4\n",
      "6\n",
      "12\n"
     ]
    }
   ],
   "source": [
    "#factors\n",
    "#for Loop\n",
    "n=int(input(\"Enter a number\"))\n",
    "print()\n",
    "for i in range(1,n+1):\n",
    "    if n%i==0:\n",
    "        print(i)"
   ]
  },
  {
   "cell_type": "code",
   "execution_count": 33,
   "id": "5a7e72cc-9e5d-4336-a3ef-add3358962ee",
   "metadata": {},
   "outputs": [
    {
     "name": "stdin",
     "output_type": "stream",
     "text": [
      "Enter a number 12\n"
     ]
    },
    {
     "name": "stdout",
     "output_type": "stream",
     "text": [
      "\n",
      "1\n",
      "2\n",
      "3\n",
      "4\n",
      "6\n",
      "12\n"
     ]
    },
    {
     "ename": "KeyboardInterrupt",
     "evalue": "",
     "output_type": "error",
     "traceback": [
      "\u001b[1;31m---------------------------------------------------------------------------\u001b[0m",
      "\u001b[1;31mKeyboardInterrupt\u001b[0m                         Traceback (most recent call last)",
      "Cell \u001b[1;32mIn[33], line 4\u001b[0m\n\u001b[0;32m      2\u001b[0m i\u001b[38;5;241m=\u001b[39m\u001b[38;5;241m1\u001b[39m\n\u001b[0;32m      3\u001b[0m \u001b[38;5;28mprint\u001b[39m()\n\u001b[1;32m----> 4\u001b[0m \u001b[38;5;28;01mwhile\u001b[39;00m \u001b[38;5;241m1\u001b[39m\u001b[38;5;241m<\u001b[39m\u001b[38;5;241m=\u001b[39mn:\n\u001b[0;32m      5\u001b[0m     \u001b[38;5;28;01mif\u001b[39;00m n\u001b[38;5;241m%\u001b[39mi\u001b[38;5;241m==\u001b[39m\u001b[38;5;241m0\u001b[39m:\n\u001b[0;32m      6\u001b[0m         \u001b[38;5;28mprint\u001b[39m(i)\n",
      "\u001b[1;31mKeyboardInterrupt\u001b[0m: "
     ]
    }
   ],
   "source": [
    "n=int(input(\"Enter a number\"))\n",
    "i=1\n",
    "print()\n",
    "while 1<=n:\n",
    "    if n%i==0:\n",
    "        print(i)\n",
    "    i+=1"
   ]
  },
  {
   "cell_type": "code",
   "execution_count": 40,
   "id": "19e657c0-7cc6-42a5-be43-308349134247",
   "metadata": {},
   "outputs": [
    {
     "name": "stdout",
     "output_type": "stream",
     "text": [
      "cmu\n"
     ]
    }
   ],
   "source": [
    "#indexing cmu\n",
    "a=\"computer science\"\n",
    "print(a[0:5:2])"
   ]
  },
  {
   "cell_type": "code",
   "execution_count": null,
   "id": "d3224844-5d6b-4eda-b42f-3d49f047a20c",
   "metadata": {},
   "outputs": [],
   "source": []
  }
 ],
 "metadata": {
  "kernelspec": {
   "display_name": "Python [conda env:base] *",
   "language": "python",
   "name": "conda-base-py"
  },
  "language_info": {
   "codemirror_mode": {
    "name": "ipython",
    "version": 3
   },
   "file_extension": ".py",
   "mimetype": "text/x-python",
   "name": "python",
   "nbconvert_exporter": "python",
   "pygments_lexer": "ipython3",
   "version": "3.12.7"
  }
 },
 "nbformat": 4,
 "nbformat_minor": 5
}
