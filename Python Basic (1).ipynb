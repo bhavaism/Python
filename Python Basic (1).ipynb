{
 "cells": [
  {
   "cell_type": "code",
   "execution_count": 7,
   "id": "5299699c-618b-4613-8798-84ef3c2269e1",
   "metadata": {},
   "outputs": [
    {
     "name": "stdin",
     "output_type": "stream",
     "text": [
      "enter a value bhavani\n"
     ]
    },
    {
     "ename": "ValueError",
     "evalue": "invalid literal for int() with base 10: 'bhavani'",
     "output_type": "error",
     "traceback": [
      "\u001b[1;31m---------------------------------------------------------------------------\u001b[0m",
      "\u001b[1;31mValueError\u001b[0m                                Traceback (most recent call last)",
      "Cell \u001b[1;32mIn[7], line 2\u001b[0m\n\u001b[0;32m      1\u001b[0m a\u001b[38;5;241m=\u001b[39m\u001b[38;5;28mstr\u001b[39m(\u001b[38;5;28minput\u001b[39m(\u001b[38;5;124m\"\u001b[39m\u001b[38;5;124menter a value\u001b[39m\u001b[38;5;124m\"\u001b[39m))\n\u001b[1;32m----> 2\u001b[0m b\u001b[38;5;241m=\u001b[39m\u001b[38;5;28mint\u001b[39m(a)\n\u001b[0;32m      3\u001b[0m \u001b[38;5;28mprint\u001b[39m(\u001b[38;5;28mtype\u001b[39m(b))\n",
      "\u001b[1;31mValueError\u001b[0m: invalid literal for int() with base 10: 'bhavani'"
     ]
    }
   ],
   "source": [
    "a=str(input(\"enter a value\"))\n",
    "b=int(a)\n",
    "print(type(b))\n"
   ]
  },
  {
   "cell_type": "code",
   "execution_count": 9,
   "id": "badacd43-db57-4950-ad33-e50a242095a0",
   "metadata": {},
   "outputs": [
    {
     "name": "stdin",
     "output_type": "stream",
     "text": [
      "enter a value bhavani\n"
     ]
    },
    {
     "name": "stdout",
     "output_type": "stream",
     "text": [
      "<class 'bool'>\n"
     ]
    }
   ],
   "source": [
    "a=str(input(\"enter a value\"))\n",
    "b=bool(a)\n",
    "print(type(b))"
   ]
  },
  {
   "cell_type": "code",
   "execution_count": 11,
   "id": "25845120-3d91-4659-b475-3663053e3318",
   "metadata": {},
   "outputs": [
    {
     "name": "stdin",
     "output_type": "stream",
     "text": [
      "enter a value bhavani\n"
     ]
    },
    {
     "ename": "ValueError",
     "evalue": "could not convert string to float: 'bhavani'",
     "output_type": "error",
     "traceback": [
      "\u001b[1;31m---------------------------------------------------------------------------\u001b[0m",
      "\u001b[1;31mValueError\u001b[0m                                Traceback (most recent call last)",
      "Cell \u001b[1;32mIn[11], line 2\u001b[0m\n\u001b[0;32m      1\u001b[0m a\u001b[38;5;241m=\u001b[39m\u001b[38;5;28mstr\u001b[39m(\u001b[38;5;28minput\u001b[39m(\u001b[38;5;124m\"\u001b[39m\u001b[38;5;124menter a value\u001b[39m\u001b[38;5;124m\"\u001b[39m))\n\u001b[1;32m----> 2\u001b[0m b\u001b[38;5;241m=\u001b[39m\u001b[38;5;28mfloat\u001b[39m(a)\n\u001b[0;32m      3\u001b[0m \u001b[38;5;28mprint\u001b[39m(\u001b[38;5;28mtype\u001b[39m(b))\n",
      "\u001b[1;31mValueError\u001b[0m: could not convert string to float: 'bhavani'"
     ]
    }
   ],
   "source": [
    "a=str(input(\"enter a value\"))\n",
    "b=float(a)\n",
    "print(type(b))"
   ]
  },
  {
   "cell_type": "code",
   "execution_count": null,
   "id": "fa8e99cc-950a-4676-bac1-cee5ac88d4c4",
   "metadata": {},
   "outputs": [],
   "source": []
  },
  {
   "cell_type": "code",
   "execution_count": null,
   "id": "17ed2331-661f-4724-9f06-a23134893f3b",
   "metadata": {},
   "outputs": [],
   "source": []
  },
  {
   "cell_type": "code",
   "execution_count": 13,
   "id": "15c04db7-48c5-45ad-9fae-9a618d271da6",
   "metadata": {},
   "outputs": [
    {
     "name": "stdin",
     "output_type": "stream",
     "text": [
      "enter a value True\n"
     ]
    },
    {
     "name": "stdout",
     "output_type": "stream",
     "text": [
      "<class 'int'>\n"
     ]
    }
   ],
   "source": [
    "a=bool(input(\"enter a value\"))\n",
    "b=int(a)\n",
    "print(type(b))"
   ]
  },
  {
   "cell_type": "code",
   "execution_count": 15,
   "id": "37577c33-0ee9-4b19-ad23-0c4c3801f8c9",
   "metadata": {},
   "outputs": [
    {
     "name": "stdin",
     "output_type": "stream",
     "text": [
      "enter a value True\n"
     ]
    },
    {
     "name": "stdout",
     "output_type": "stream",
     "text": [
      "<class 'str'>\n"
     ]
    }
   ],
   "source": [
    "a=bool(input(\"enter a value\"))\n",
    "b=str(a)\n",
    "print(type(b))"
   ]
  },
  {
   "cell_type": "code",
   "execution_count": 17,
   "id": "feb8eb2d-d0cd-4990-a61d-2b209f3e0f46",
   "metadata": {},
   "outputs": [
    {
     "name": "stdin",
     "output_type": "stream",
     "text": [
      "enter a value False\n"
     ]
    },
    {
     "name": "stdout",
     "output_type": "stream",
     "text": [
      "<class 'bool'>\n"
     ]
    }
   ],
   "source": [
    "a=bool(input(\"enter a value\"))\n",
    "b=bool(a)\n",
    "print(type(b))"
   ]
  },
  {
   "cell_type": "code",
   "execution_count": 19,
   "id": "48ae994f-55c3-48aa-a66d-b88ee38799cf",
   "metadata": {},
   "outputs": [
    {
     "name": "stdin",
     "output_type": "stream",
     "text": [
      "enter a value false\n"
     ]
    },
    {
     "name": "stdout",
     "output_type": "stream",
     "text": [
      "<class 'float'>\n"
     ]
    }
   ],
   "source": [
    "a=bool(input(\"enter a value\"))\n",
    "b=float(a)\n",
    "print(type(b))"
   ]
  },
  {
   "cell_type": "code",
   "execution_count": 21,
   "id": "26717d2f-c4d0-4fe9-badd-f61756783c5f",
   "metadata": {},
   "outputs": [
    {
     "name": "stdin",
     "output_type": "stream",
     "text": [
      "enter a value 1.5\n"
     ]
    },
    {
     "name": "stdout",
     "output_type": "stream",
     "text": [
      "<class 'int'>\n"
     ]
    }
   ],
   "source": [
    "a=float(input(\"enter a value\"))\n",
    "b=int(a)\n",
    "print(type(b))"
   ]
  },
  {
   "cell_type": "code",
   "execution_count": 23,
   "id": "2e5d7bd7-d713-41ec-be36-3a1bf366c2b5",
   "metadata": {},
   "outputs": [
    {
     "name": "stdin",
     "output_type": "stream",
     "text": [
      "enter a value 6.7\n"
     ]
    },
    {
     "name": "stdout",
     "output_type": "stream",
     "text": [
      "<class 'str'>\n"
     ]
    }
   ],
   "source": [
    "a=float(input(\"enter a value\"))\n",
    "b=str(a)\n",
    "print(type(b))"
   ]
  },
  {
   "cell_type": "code",
   "execution_count": 25,
   "id": "707bae6e-ba18-4fe1-a9c6-89f2104e9fd7",
   "metadata": {},
   "outputs": [
    {
     "name": "stdin",
     "output_type": "stream",
     "text": [
      "enter a value 9.8\n"
     ]
    },
    {
     "name": "stdout",
     "output_type": "stream",
     "text": [
      "<class 'bool'>\n"
     ]
    }
   ],
   "source": [
    "a=float(input(\"enter a value\"))\n",
    "b=bool(a)\n",
    "print(type(b))"
   ]
  },
  {
   "cell_type": "code",
   "execution_count": 27,
   "id": "9d50b793-8092-45ff-bac8-d96fe5e0f6af",
   "metadata": {},
   "outputs": [
    {
     "name": "stdin",
     "output_type": "stream",
     "text": [
      "enter a value 6.8\n"
     ]
    },
    {
     "name": "stdout",
     "output_type": "stream",
     "text": [
      "<class 'float'>\n"
     ]
    }
   ],
   "source": [
    "a=float(input(\"enter a value\"))\n",
    "b=float(a)\n",
    "print(type(b))"
   ]
  },
  {
   "cell_type": "code",
   "execution_count": null,
   "id": "14bf1c1c-b629-43bf-90f1-e53ca6c8dbc8",
   "metadata": {},
   "outputs": [],
   "source": [
    "#\n",
    "\n",
    "r=float(input(\"enter a radius\"))\n",
    "h=float(input(\"enter a height\"))\n",
    "print((r))"
   ]
  },
  {
   "cell_type": "code",
   "execution_count": 29,
   "id": "1ae68946-c8f3-4fce-9557-f8b0189ae7e4",
   "metadata": {},
   "outputs": [
    {
     "name": "stdin",
     "output_type": "stream",
     "text": [
      "enter a value 6\n"
     ]
    },
    {
     "name": "stdout",
     "output_type": "stream",
     "text": [
      "36\n"
     ]
    }
   ],
   "source": [
    "a=int(input(\"enter a value\"))\n",
    "area_of_the_square = (a*a)\n",
    "print(area_of_the_square)"
   ]
  },
  {
   "cell_type": "code",
   "execution_count": 1,
   "id": "f33a4b5a-958d-4131-828b-9a468365b382",
   "metadata": {},
   "outputs": [
    {
     "name": "stdin",
     "output_type": "stream",
     "text": [
      "enter a value 3\n"
     ]
    },
    {
     "name": "stdout",
     "output_type": "stream",
     "text": [
      "54\n"
     ]
    }
   ],
   "source": [
    "a=float(input(\"enter a value\"))\n",
    "area_of_cube = (6*a*a)\n",
    "print(round (area_of_cube))"
   ]
  },
  {
   "cell_type": "code",
   "execution_count": 3,
   "id": "dbf03c51-1027-4548-a69f-ee3d8a44e7a7",
   "metadata": {},
   "outputs": [
    {
     "name": "stdin",
     "output_type": "stream",
     "text": [
      "enter a value 8\n",
      "enter a value 9\n"
     ]
    },
    {
     "name": "stdout",
     "output_type": "stream",
     "text": [
      "22\n"
     ]
    }
   ],
   "source": [
    "b=int(input(\"enter a value\"))\n",
    "h=int(input(\"enter a value\"))\n",
    "area_of_the_triangle = (0.3*b*h)\n",
    "print(round (area_of_the_triangle))"
   ]
  },
  {
   "cell_type": "code",
   "execution_count": 5,
   "id": "aa2aaa9f-91d7-4167-bcbf-78370cea09bd",
   "metadata": {},
   "outputs": [
    {
     "name": "stdin",
     "output_type": "stream",
     "text": [
      "enter a value 1.5\n",
      "enter a value 1.9\n"
     ]
    },
    {
     "name": "stdout",
     "output_type": "stream",
     "text": [
      "3\n"
     ]
    }
   ],
   "source": [
    "b=float(input(\"enter a value\"))\n",
    "h=float(input(\"enter a value\"))\n",
    "area_of_the_parellogram = (b*h)\n",
    "print(round (area_of_the_parellogram))"
   ]
  },
  {
   "cell_type": "code",
   "execution_count": 9,
   "id": "4f9ef323-2f74-440b-8d67-64b1aa5b1fee",
   "metadata": {},
   "outputs": [
    {
     "name": "stdin",
     "output_type": "stream",
     "text": [
      "enter a value 8\n",
      "enter a value 8.3\n"
     ]
    },
    {
     "name": "stdout",
     "output_type": "stream",
     "text": [
      "66\n"
     ]
    }
   ],
   "source": [
    "l=int(input(\"enter a value\"))\n",
    "w=float(input(\"enter a value\"))\n",
    "area_of_the_rectangle = (l*w)\n",
    "print(round (area_of_the_rectangle))"
   ]
  },
  {
   "cell_type": "code",
   "execution_count": null,
   "id": "6ef1b25d-7022-4513-b106-ba7d5bd0a375",
   "metadata": {},
   "outputs": [],
   "source": [
    "#FIRST"
   ]
  },
  {
   "cell_type": "code",
   "execution_count": 32,
   "id": "ec14297a-5130-417d-8997-558888e306b2",
   "metadata": {},
   "outputs": [
    {
     "name": "stdout",
     "output_type": "stream",
     "text": [
      "o\n"
     ]
    }
   ],
   "source": [
    "a=\"Computer Science\"\n",
    "print(a[1])"
   ]
  },
  {
   "cell_type": "code",
   "execution_count": null,
   "id": "fa035063-226c-42ff-94b8-c0d71debe97f",
   "metadata": {},
   "outputs": [],
   "source": [
    "#last"
   ]
  },
  {
   "cell_type": "code",
   "execution_count": 34,
   "id": "bcdaa1dc-2ef1-4407-8a8b-ef232ae3fe6e",
   "metadata": {},
   "outputs": [
    {
     "name": "stdout",
     "output_type": "stream",
     "text": [
      "e\n"
     ]
    }
   ],
   "source": [
    "a=\"Computer Science\"\n",
    "print(a[-1])"
   ]
  },
  {
   "cell_type": "code",
   "execution_count": null,
   "id": "0a099ac9-ba08-44bd-bd8d-f3d34c9f5530",
   "metadata": {},
   "outputs": [],
   "source": [
    "#"
   ]
  },
  {
   "cell_type": "code",
   "execution_count": 36,
   "id": "40144045-2f49-418d-b97f-8dcc81f12323",
   "metadata": {},
   "outputs": [
    {
     "name": "stdout",
     "output_type": "stream",
     "text": [
      "omputer Science\n"
     ]
    }
   ],
   "source": [
    "a=\"Computer Science\"\n",
    "print(a[1::])"
   ]
  },
  {
   "cell_type": "code",
   "execution_count": null,
   "id": "92c9fe1c-35ac-4438-9eb5-a74d0d1708cf",
   "metadata": {},
   "outputs": [],
   "source": [
    "# end to start"
   ]
  },
  {
   "cell_type": "code",
   "execution_count": 38,
   "id": "2f192147-7c8d-42ab-9778-370e143cd682",
   "metadata": {},
   "outputs": [
    {
     "name": "stdout",
     "output_type": "stream",
     "text": [
      "ecneicS retupmoC\n"
     ]
    }
   ],
   "source": [
    "a=\"Computer Science\"\n",
    "print(a[::-1])"
   ]
  },
  {
   "cell_type": "code",
   "execution_count": null,
   "id": "1967842d-ffba-4820-9fd8-5559b5b38583",
   "metadata": {},
   "outputs": [],
   "source": [
    "# gap of 1"
   ]
  },
  {
   "cell_type": "code",
   "execution_count": 40,
   "id": "c9bbed60-3047-43f0-baf7-5586e4048124",
   "metadata": {},
   "outputs": [
    {
     "name": "stdout",
     "output_type": "stream",
     "text": [
      "Cmue cec\n"
     ]
    }
   ],
   "source": [
    "a=\"Computer Science\"\n",
    "print(a[::2])"
   ]
  },
  {
   "cell_type": "code",
   "execution_count": null,
   "id": "a4d02cb1-150c-4089-8280-748bf8c3d399",
   "metadata": {},
   "outputs": [],
   "source": [
    "# gap of -1"
   ]
  },
  {
   "cell_type": "code",
   "execution_count": 42,
   "id": "5c3ed55d-b685-4c0a-bcde-4947c4b3a703",
   "metadata": {},
   "outputs": [
    {
     "name": "stdout",
     "output_type": "stream",
     "text": [
      "eniSrtpo\n"
     ]
    }
   ],
   "source": [
    "a=\"Computer Science\"\n",
    "print(a[::-2])"
   ]
  },
  {
   "cell_type": "code",
   "execution_count": null,
   "id": "ce355811-f361-4c66-ae6a-e57c86131b9e",
   "metadata": {},
   "outputs": [],
   "source": [
    "Combined"
   ]
  },
  {
   "cell_type": "code",
   "execution_count": 44,
   "id": "e31eb6e6-7c60-457d-9916-69a23338034d",
   "metadata": {},
   "outputs": [
    {
     "name": "stdout",
     "output_type": "stream",
     "text": [
      "mputer Scienc\n"
     ]
    }
   ],
   "source": [
    "a=\"Computer Science\"\n",
    "print(a[2:-1])"
   ]
  },
  {
   "cell_type": "code",
   "execution_count": 43,
   "id": "9f4d25d7-7c37-4634-9c63-8901c9a3b981",
   "metadata": {},
   "outputs": [
    {
     "name": "stdout",
     "output_type": "stream",
     "text": [
      "i\n",
      " \n",
      "C\n",
      "e\n",
      "16\n",
      "8\n",
      " \n"
     ]
    }
   ],
   "source": [
    "a=\"Computer Science\"\n",
    "print(a [11])\n",
    "print(a [8])\n",
    "print(a [0])\n",
    "print(a [-1])\n",
    "print(len (a))\n",
    "b=(len(a)//2)\n",
    "print(b)\n",
    "c=a[b]\n",
    "print(c)"
   ]
  },
  {
   "cell_type": "code",
   "execution_count": null,
   "id": "f8f7e52d-5cda-447d-8f0a-2f9596f6b778",
   "metadata": {},
   "outputs": [],
   "source": [
    "Basic Python"
   ]
  },
  {
   "cell_type": "code",
   "execution_count": 1,
   "id": "d7c389da-9a47-41e3-89cb-79ec6ea6e13f",
   "metadata": {},
   "outputs": [
    {
     "name": "stdout",
     "output_type": "stream",
     "text": [
      "Bhavani\n"
     ]
    }
   ],
   "source": [
    "print(\"Bhavani\")"
   ]
  },
  {
   "cell_type": "code",
   "execution_count": 3,
   "id": "ea11c433-1320-402e-baab-7a6204d013b0",
   "metadata": {},
   "outputs": [
    {
     "name": "stdout",
     "output_type": "stream",
     "text": [
      "Hello World\n"
     ]
    }
   ],
   "source": [
    "print (\"Hello World\")"
   ]
  },
  {
   "cell_type": "code",
   "execution_count": null,
   "id": "325aa728-848e-4733-9a20-245852a395de",
   "metadata": {},
   "outputs": [],
   "source": [
    "Variable"
   ]
  },
  {
   "cell_type": "code",
   "execution_count": 5,
   "id": "b5ec3ab5-b5b7-480f-8799-d2ec4ef52e65",
   "metadata": {},
   "outputs": [
    {
     "name": "stdout",
     "output_type": "stream",
     "text": [
      "20\n"
     ]
    }
   ],
   "source": [
    "a=10\n",
    "b=10\n",
    "print(a+b)"
   ]
  },
  {
   "cell_type": "code",
   "execution_count": null,
   "id": "164401d1-83c2-4202-863a-65d4f7f36863",
   "metadata": {},
   "outputs": [],
   "source": [
    "Datatype"
   ]
  },
  {
   "cell_type": "code",
   "execution_count": 7,
   "id": "1d7db0f3-7191-4e11-8dcc-95c780ced883",
   "metadata": {},
   "outputs": [
    {
     "name": "stdout",
     "output_type": "stream",
     "text": [
      "<class 'int'>\n"
     ]
    }
   ],
   "source": [
    "a=10\n",
    "print(type(a))"
   ]
  },
  {
   "cell_type": "code",
   "execution_count": 9,
   "id": "3b5d3620-1324-4eb5-9e98-729e0e50a556",
   "metadata": {},
   "outputs": [
    {
     "name": "stdout",
     "output_type": "stream",
     "text": [
      "<class 'str'>\n"
     ]
    }
   ],
   "source": [
    "a=\"Flower\"\n",
    "print(type(a))"
   ]
  },
  {
   "cell_type": "code",
   "execution_count": 13,
   "id": "3aa9e3d5-50fe-43ce-8a8c-b7c1d4299035",
   "metadata": {},
   "outputs": [
    {
     "name": "stdout",
     "output_type": "stream",
     "text": [
      "<class 'float'>\n"
     ]
    }
   ],
   "source": [
    "a=1.5\n",
    "print(type(a))"
   ]
  },
  {
   "cell_type": "code",
   "execution_count": null,
   "id": "9cb9596f-6592-4cba-9648-53aa1b1d3b96",
   "metadata": {},
   "outputs": [],
   "source": []
  },
  {
   "cell_type": "code",
   "execution_count": null,
   "id": "3ba78340-2438-4b99-a228-03d3ee73832d",
   "metadata": {},
   "outputs": [],
   "source": [
    "# Operators"
   ]
  },
  {
   "cell_type": "code",
   "execution_count": 23,
   "id": "8fae4634-d1fc-48ef-92df-3724418eaac4",
   "metadata": {},
   "outputs": [
    {
     "name": "stdout",
     "output_type": "stream",
     "text": [
      "40\n"
     ]
    }
   ],
   "source": [
    "a=10\n",
    "b=30\n",
    "c=a+b\n",
    "print(c)"
   ]
  },
  {
   "cell_type": "code",
   "execution_count": null,
   "id": "ff511d18-7f5f-4131-ac96-f59e6b41338e",
   "metadata": {},
   "outputs": [],
   "source": [
    "#Casting"
   ]
  },
  {
   "cell_type": "code",
   "execution_count": 25,
   "id": "04743d5a-3e49-49fb-8831-9a13b615d8fe",
   "metadata": {},
   "outputs": [
    {
     "name": "stdout",
     "output_type": "stream",
     "text": [
      "50\n"
     ]
    }
   ],
   "source": [
    "a=int(\"10\")\n",
    "b=int (\"40\")\n",
    "c=a+b\n",
    "print(c)"
   ]
  },
  {
   "cell_type": "code",
   "execution_count": null,
   "id": "efbac7de-d88d-4d19-afc6-1e0666171481",
   "metadata": {},
   "outputs": [],
   "source": [
    "#Input"
   ]
  },
  {
   "cell_type": "code",
   "execution_count": 27,
   "id": "649f4001-57e9-47aa-b5a8-2781a4a16dc4",
   "metadata": {},
   "outputs": [
    {
     "name": "stdin",
     "output_type": "stream",
     "text": [
      " 10\n",
      " 20\n"
     ]
    },
    {
     "name": "stdout",
     "output_type": "stream",
     "text": [
      "1020\n"
     ]
    }
   ],
   "source": [
    "a=(input())\n",
    "b=(input())\n",
    "c=a+b\n",
    "print(c)"
   ]
  },
  {
   "cell_type": "code",
   "execution_count": null,
   "id": "408847da-3a93-4bbc-9869-670097b0638e",
   "metadata": {},
   "outputs": [],
   "source": [
    "It consider as String"
   ]
  },
  {
   "cell_type": "code",
   "execution_count": null,
   "id": "8279550d-41f6-4e75-ab0c-55c363dab067",
   "metadata": {},
   "outputs": [],
   "source": []
  },
  {
   "cell_type": "code",
   "execution_count": 29,
   "id": "bb056bbe-63ec-43e0-b830-724a52794adb",
   "metadata": {},
   "outputs": [
    {
     "name": "stdin",
     "output_type": "stream",
     "text": [
      " 3\n",
      " 4\n"
     ]
    },
    {
     "name": "stdout",
     "output_type": "stream",
     "text": [
      "7\n"
     ]
    }
   ],
   "source": [
    "a=int (input())\n",
    "b=int (input())\n",
    "c=a+b\n",
    "print(c)"
   ]
  },
  {
   "cell_type": "code",
   "execution_count": 45,
   "id": "42c23000-f40e-4ccd-960b-35f154085320",
   "metadata": {},
   "outputs": [
    {
     "name": "stdin",
     "output_type": "stream",
     "text": [
      " Bhavani\n",
      " 24\n"
     ]
    },
    {
     "name": "stdout",
     "output_type": "stream",
     "text": [
      "My Name is: Bhavani\n",
      "My age is: 24\n"
     ]
    }
   ],
   "source": [
    "name=input()\n",
    "age=input()\n",
    "print(\"My Name is:\",name)\n",
    "print(\"My age is:\",age)"
   ]
  },
  {
   "cell_type": "code",
   "execution_count": 53,
   "id": "732176af-87a6-488c-96f1-4c150f5e8f1a",
   "metadata": {},
   "outputs": [
    {
     "name": "stdin",
     "output_type": "stream",
     "text": [
      " Bhavani\n",
      " 24\n",
      " Tirunelveli\n"
     ]
    },
    {
     "name": "stdout",
     "output_type": "stream",
     "text": [
      "My Name is: Bhavani\n",
      "My age is: 24\n",
      "I am from: Tirunelveli\n"
     ]
    }
   ],
   "source": [
    "name=input()\n",
    "age=input()\n",
    "city=input()\n",
    "print(\"My Name is:\",name)\n",
    "print(\"My age is:\",age)\n",
    "print(\"I am from:\",city)"
   ]
  },
  {
   "cell_type": "code",
   "execution_count": 12,
   "id": "4111c3f3-5be0-4398-8551-b45372ede691",
   "metadata": {},
   "outputs": [
    {
     "name": "stdout",
     "output_type": "stream",
     "text": [
      "3\n"
     ]
    }
   ],
   "source": [
    "#3 Example *\n",
    "a=3\n",
    "b=2\n",
    "c=4\n",
    "d=a*b*c\n",
    "e=a+b+c\n",
    "print(round(d/e))"
   ]
  },
  {
   "cell_type": "code",
   "execution_count": 1,
   "id": "b2340eab-224e-41f7-b20c-e106e425aeba",
   "metadata": {},
   "outputs": [
    {
     "name": "stdin",
     "output_type": "stream",
     "text": [
      " Bhavani\n",
      " 78\n",
      " Computer\n"
     ]
    },
    {
     "name": "stdout",
     "output_type": "stream",
     "text": [
      "My name is Bhavani\n",
      "My Score is 7.8 /10\n",
      "My department is Computer\n"
     ]
    }
   ],
   "source": [
    "name=input()\n",
    "score=int(input())\n",
    "department=input()\n",
    "print(\"My name is\",name)\n",
    "print(\"My Score is\", score/10,\"/10\")\n",
    "print(\"My department is\",department)"
   ]
  },
  {
   "cell_type": "code",
   "execution_count": null,
   "id": "cc8a9ed5-f5ce-4800-bcf4-371f2c8e774d",
   "metadata": {},
   "outputs": [],
   "source": [
    "#ifelse"
   ]
  },
  {
   "cell_type": "code",
   "execution_count": 9,
   "id": "b8f08975-9332-47ed-a074-e79a055a8f8f",
   "metadata": {},
   "outputs": [
    {
     "name": "stdin",
     "output_type": "stream",
     "text": [
      " not\n"
     ]
    },
    {
     "name": "stdout",
     "output_type": "stream",
     "text": [
      "megana weds surya\n"
     ]
    }
   ],
   "source": [
    "Megana=input()\n",
    "if(Megana==\"Died\"):\n",
    "    print(\"suriya meets priya\")\n",
    "else:\n",
    "    print(\"megana weds surya\")"
   ]
  },
  {
   "cell_type": "code",
   "execution_count": 13,
   "id": "7be8ef0d-da8c-40fe-8bde-f8cd12e95dd1",
   "metadata": {},
   "outputs": [
    {
     "name": "stdin",
     "output_type": "stream",
     "text": [
      "enter a number 4\n"
     ]
    },
    {
     "name": "stdout",
     "output_type": "stream",
     "text": [
      "number is even\n"
     ]
    }
   ],
   "source": [
    "number=int(input(\"enter a number\"))\n",
    "if(number%2==0):\n",
    "    print(\"number is even\")\n",
    "else:\n",
    "    print(\"number is odd\")"
   ]
  },
  {
   "cell_type": "code",
   "execution_count": 15,
   "id": "70aa88c3-1b8c-42db-b31d-78bc6f4daa81",
   "metadata": {},
   "outputs": [
    {
     "name": "stdin",
     "output_type": "stream",
     "text": [
      "enter a number 10\n"
     ]
    },
    {
     "name": "stdout",
     "output_type": "stream",
     "text": [
      "Number is Divied by 3 and 5\n"
     ]
    }
   ],
   "source": [
    "num=int(input(\"enter a number\"))\n",
    "if(num%3 and 5):\n",
    "    print(\"Number is Divied by 3 and 5\")\n",
    "else:\n",
    "    (\"Number is not Divied by 3 and 5\")"
   ]
  },
  {
   "cell_type": "code",
   "execution_count": 47,
   "id": "dcbb122e-45b0-4e36-aabd-7b38cf3e63c3",
   "metadata": {},
   "outputs": [
    {
     "name": "stdin",
     "output_type": "stream",
     "text": [
      "enter your score 100\n"
     ]
    },
    {
     "name": "stdout",
     "output_type": "stream",
     "text": [
      "Good Student\n"
     ]
    }
   ],
   "source": [
    "score=int(input(\"enter your score\"))\n",
    "if(score<35):\n",
    "    print(\"Poor Student\")\n",
    "elif(score>35 and score<=70):\n",
    "    print(\"Average Student\")\n",
    "elif(score>70 and score<=100):\n",
    "    print(\"Good Student\")\n",
    "else:\n",
    "    print(\"Invalid Input\")"
   ]
  },
  {
   "cell_type": "code",
   "execution_count": 37,
   "id": "7cb1dc75-25f9-451d-9cde-377185be2ef3",
   "metadata": {},
   "outputs": [
    {
     "name": "stdin",
     "output_type": "stream",
     "text": [
      "Enter a Number 7\n",
      "Enter a Number 8\n",
      "add/sub/multi/divided multi\n"
     ]
    },
    {
     "name": "stdout",
     "output_type": "stream",
     "text": [
      "56\n"
     ]
    }
   ],
   "source": [
    "value1=int(input(\"Enter a Number\"))\n",
    "value2=int(input(\"Enter a Number\"))\n",
    "opt=input(\"add/sub/multi/divided\")\n",
    "if(opt==\"add\"):\n",
    "    print(value1+value2)\n",
    "elif(opt==\"sub\"):\n",
    "    print(value1-value2)\n",
    "elif(opt==\"multi\"):\n",
    "    print(value1*value2)\n",
    "elif(opt==\"divided\"):\n",
    "    print(value1/value2)\n",
    "else:\n",
    "    print(\"Invalid Operation\")"
   ]
  },
  {
   "cell_type": "code",
   "execution_count": 53,
   "id": "c861ef51-b178-4dc5-a154-e7e0ec12714e",
   "metadata": {},
   "outputs": [
    {
     "name": "stdin",
     "output_type": "stream",
     "text": [
      "Enter a score Percentage 88\n",
      "Candidate Name Saran\n",
      "Candidate Age 24\n",
      "Candidate Department Computer Science\n"
     ]
    },
    {
     "name": "stdout",
     "output_type": "stream",
     "text": [
      "Candidate is Eligible\n"
     ]
    }
   ],
   "source": [
    "score=int(input(\"Enter a score Percentage\"))\n",
    "if(score>=70):\n",
    "    name=input(\"Candidate Name\")\n",
    "    age=input(\"Candidate Age\")\n",
    "    department=input(\"Candidate Department\")\n",
    "    print(\"Candidate is Eligible\")\n",
    "else:\n",
    "    print(\"Candidate is not Eligible\")"
   ]
  },
  {
   "cell_type": "code",
   "execution_count": 57,
   "id": "758414fc-70c9-4045-a60d-ab41a30f636c",
   "metadata": {},
   "outputs": [
    {
     "name": "stdin",
     "output_type": "stream",
     "text": [
      "enter your salary 13000\n",
      "Enter your age 18\n"
     ]
    },
    {
     "name": "stdout",
     "output_type": "stream",
     "text": [
      "Not Eligible for Loan\n"
     ]
    }
   ],
   "source": [
    "#can do\n",
    "salary=int(input(\"enter your salary\"))\n",
    "age=int(input(\"Enter your age\"))\n",
    "if(salary>=20000):\n",
    "    loan_amount=input(\"Expected\")\n",
    "    print(\"Eligible for Loan\")\n",
    "elif(age>=25):\n",
    "    loan_amount=input(\"Expected\")\n",
    "    print(\"Eligible for Loan\")\n",
    "else:\n",
    "    print(\"Not Eligible for Loan\")"
   ]
  },
  {
   "cell_type": "code",
   "execution_count": 79,
   "id": "4f465682-a05f-49cd-b0f2-11adec908942",
   "metadata": {},
   "outputs": [
    {
     "name": "stdin",
     "output_type": "stream",
     "text": [
      "enter your salary 34990\n",
      "Enter your age 35\n",
      "Expected 60000\n"
     ]
    },
    {
     "name": "stdout",
     "output_type": "stream",
     "text": [
      "Max loan amount is 50000\n"
     ]
    }
   ],
   "source": [
    "#Nested-if\n",
    "salary=int(input(\"enter your salary\"))\n",
    "age=int(input(\"Enter your age\"))\n",
    "if(salary>=20000 or age>=25):\n",
    "    loan_amount=int(input(\"Expected\"))\n",
    "    if(loan_amount>50000):\n",
    "        print(\"Max loan amount is 50000\")\n",
    "    else:\n",
    "        print(\"Eligible for Loan\")\n",
    "else:\n",
    "    print(\"Not Eligible for Loan\")"
   ]
  },
  {
   "cell_type": "code",
   "execution_count": 2,
   "id": "b544087b-df2f-4554-9d2b-3498a5843b94",
   "metadata": {},
   "outputs": [
    {
     "name": "stdin",
     "output_type": "stream",
     "text": [
      "EV 34\n",
      "EV 22\n",
      "EV 34\n",
      "EV E\n"
     ]
    },
    {
     "ename": "ValueError",
     "evalue": "invalid literal for int() with base 10: 'E'",
     "output_type": "error",
     "traceback": [
      "\u001b[1;31m---------------------------------------------------------------------------\u001b[0m",
      "\u001b[1;31mValueError\u001b[0m                                Traceback (most recent call last)",
      "Cell \u001b[1;32mIn[2], line 4\u001b[0m\n\u001b[0;32m      2\u001b[0m b\u001b[38;5;241m=\u001b[39m\u001b[38;5;28mint\u001b[39m(\u001b[38;5;28minput\u001b[39m(\u001b[38;5;124m\"\u001b[39m\u001b[38;5;124mEV\u001b[39m\u001b[38;5;124m\"\u001b[39m))\n\u001b[0;32m      3\u001b[0m c\u001b[38;5;241m=\u001b[39m\u001b[38;5;28mint\u001b[39m(\u001b[38;5;28minput\u001b[39m(\u001b[38;5;124m\"\u001b[39m\u001b[38;5;124mEV\u001b[39m\u001b[38;5;124m\"\u001b[39m))\n\u001b[1;32m----> 4\u001b[0m d\u001b[38;5;241m=\u001b[39m\u001b[38;5;28mint\u001b[39m(\u001b[38;5;28minput\u001b[39m(\u001b[38;5;124m\"\u001b[39m\u001b[38;5;124mEV\u001b[39m\u001b[38;5;124m\"\u001b[39m))\n\u001b[0;32m      5\u001b[0m e\u001b[38;5;241m=\u001b[39m\u001b[38;5;28mint\u001b[39m(\u001b[38;5;28minput\u001b[39m(\u001b[38;5;124m\"\u001b[39m\u001b[38;5;124mEV\u001b[39m\u001b[38;5;124m\"\u001b[39m))\n\u001b[0;32m      6\u001b[0m f\u001b[38;5;241m=\u001b[39m(a\u001b[38;5;241m+\u001b[39mb\u001b[38;5;241m+\u001b[39mc\u001b[38;5;241m+\u001b[39md\u001b[38;5;241m+\u001b[39me)\u001b[38;5;241m/\u001b[39m\u001b[38;5;241m5\u001b[39m\n",
      "\u001b[1;31mValueError\u001b[0m: invalid literal for int() with base 10: 'E'"
     ]
    }
   ],
   "source": [
    "a=int(input(\"EV\"))\n",
    "b=int(input(\"EV\"))\n",
    "c=int(input(\"EV\"))\n",
    "d=int(input(\"EV\"))\n",
    "e=int(input(\"EV\"))\n",
    "f=(a+b+c+d+e)/5\n",
    "if(f<35):\n",
    "    print(\"Additional Class Is Required\")\n",
    "else:\n",
    "    print(\"Good to Go\")"
   ]
  },
  {
   "cell_type": "markdown",
   "id": "f8d8f4e8-df70-40a7-98c0-b4096c8f7e57",
   "metadata": {},
   "source": [
    "# FOR LOOP"
   ]
  },
  {
   "cell_type": "raw",
   "id": "b48407ba-3456-470e-9576-7fb65e2b9e67",
   "metadata": {},
   "source": []
  },
  {
   "cell_type": "code",
   "execution_count": 12,
   "id": "10906779-54b0-4dee-be9a-d00c41b41877",
   "metadata": {},
   "outputs": [
    {
     "name": "stdout",
     "output_type": "stream",
     "text": [
      "1 x2= 2\n",
      "2 x2= 4\n",
      "3 x2= 6\n",
      "4 x2= 8\n",
      "5 x2= 10\n",
      "6 x2= 12\n",
      "7 x2= 14\n",
      "8 x2= 16\n",
      "9 x2= 18\n",
      "10 x2= 20\n"
     ]
    }
   ],
   "source": [
    "for a in range(1,11):\n",
    "    print(a,\"x2=\",a*2)"
   ]
  },
  {
   "cell_type": "code",
   "execution_count": 14,
   "id": "4a1d20c9-c3d3-450e-845c-cc88bf3194da",
   "metadata": {},
   "outputs": [
    {
     "name": "stdout",
     "output_type": "stream",
     "text": [
      "1 x3= 3\n",
      "2 x3= 6\n",
      "3 x3= 9\n",
      "4 x3= 12\n",
      "5 x3= 15\n",
      "6 x3= 18\n",
      "7 x3= 21\n",
      "8 x3= 24\n",
      "9 x3= 27\n",
      "10 x3= 30\n"
     ]
    }
   ],
   "source": [
    "for a in range(1,11):\n",
    "    print(a,\"x3=\",a*3)"
   ]
  },
  {
   "cell_type": "code",
   "execution_count": 16,
   "id": "5d4da17d-983f-4d70-869c-38b744fba45b",
   "metadata": {},
   "outputs": [
    {
     "name": "stdin",
     "output_type": "stream",
     "text": [
      "enter a number 9\n",
      "enter a number 17\n"
     ]
    },
    {
     "name": "stdout",
     "output_type": "stream",
     "text": [
      "10\n",
      "11\n",
      "12\n",
      "13\n",
      "14\n",
      "15\n",
      "16\n"
     ]
    }
   ],
   "source": [
    "a=int(input(\"enter a number\"))\n",
    "b=int(input(\"enter a number\"))\n",
    "for c in range (a+1,b):\n",
    "    print(c)"
   ]
  },
  {
   "cell_type": "code",
   "execution_count": 17,
   "id": "58761f27-b030-4e09-8023-98bf540b1e6e",
   "metadata": {},
   "outputs": [
    {
     "name": "stdout",
     "output_type": "stream",
     "text": [
      "5\n"
     ]
    }
   ],
   "source": [
    "count=0\n",
    "for a in range(1,11):\n",
    "    if (a%2==0):\n",
    "        count=count+1\n",
    "print(count)"
   ]
  },
  {
   "cell_type": "code",
   "execution_count": 19,
   "id": "56f2d0f4-8ab2-441c-8c74-ec243bd9ad3c",
   "metadata": {},
   "outputs": [
    {
     "name": "stdout",
     "output_type": "stream",
     "text": [
      "5\n"
     ]
    }
   ],
   "source": [
    "count=0\n",
    "for i in range(1,11):\n",
    "    if (i%2!=0):\n",
    "        count=count+1\n",
    "print(count)"
   ]
  },
  {
   "cell_type": "code",
   "execution_count": 33,
   "id": "80eb229f-622e-46dd-9ed6-c81f2abf18e3",
   "metadata": {},
   "outputs": [
    {
     "name": "stdout",
     "output_type": "stream",
     "text": [
      "5\n",
      "5\n"
     ]
    }
   ],
   "source": [
    "even_count=0\n",
    "odd_count=0\n",
    "for i in range(1,11):\n",
    "    if (i%2==0):\n",
    "        even_count=even_count+1\n",
    "    else:\n",
    "        odd_count=odd_count+1\n",
    "print(even_count)\n",
    "print(odd_count)"
   ]
  },
  {
   "cell_type": "code",
   "execution_count": 37,
   "id": "2e819d92-ff59-454e-ad01-f2dba2f4bd99",
   "metadata": {},
   "outputs": [
    {
     "name": "stdout",
     "output_type": "stream",
     "text": [
      "6\n"
     ]
    }
   ],
   "source": [
    "count=0\n",
    "for i in range(1,101):\n",
    "    if(i%3==0 and i%5==0):\n",
    "        count=count+1\n",
    "print(count)"
   ]
  },
  {
   "cell_type": "code",
   "execution_count": 49,
   "id": "11221053-5515-4d7a-9519-67d945182ee1",
   "metadata": {},
   "outputs": [
    {
     "name": "stdout",
     "output_type": "stream",
     "text": [
      "15\n"
     ]
    }
   ],
   "source": [
    "sum=0\n",
    "for i in range(1,6):\n",
    "    sum=sum+i\n",
    "print(sum)"
   ]
  },
  {
   "cell_type": "code",
   "execution_count": null,
   "id": "103e3bf0-ab93-4732-a298-0d15d7b6a09c",
   "metadata": {},
   "outputs": [],
   "source": [
    "#NESTED for LOOP"
   ]
  },
  {
   "cell_type": "code",
   "execution_count": 51,
   "id": "24bb988f-3c03-4f67-8eaa-ce19d931a571",
   "metadata": {},
   "outputs": [
    {
     "name": "stdout",
     "output_type": "stream",
     "text": [
      "1  Apple\n",
      "2  Apple\n",
      "1  Apple\n",
      "2  Apple\n",
      "1  Apple\n",
      "2  Apple\n",
      "1  Apple\n",
      "2  Apple\n",
      "1  Apple\n",
      "2  Apple\n"
     ]
    }
   ],
   "source": [
    "for i in range(1,6):\n",
    "    for j in range(1,3):\n",
    "        print(j,\" Apple\")"
   ]
  },
  {
   "cell_type": "code",
   "execution_count": 6,
   "id": "b8ddf5b6-dcef-4f55-a090-3bab0981760c",
   "metadata": {},
   "outputs": [
    {
     "name": "stdout",
     "output_type": "stream",
     "text": [
      "Week: 1\n",
      "Day: 1\n",
      "Day: 2\n",
      "Day: 3\n",
      "Week: 2\n",
      "Day: 1\n",
      "Day: 2\n",
      "Day: 3\n"
     ]
    }
   ],
   "source": [
    "for i in range(1,3):\n",
    "    print(\"Week:\", i)\n",
    "    for j in range(1,4):\n",
    "        print(\"Day:\", j)"
   ]
  },
  {
   "cell_type": "code",
   "execution_count": 8,
   "id": "b8e013b3-c14a-4604-b829-6a975eb78bdc",
   "metadata": {},
   "outputs": [
    {
     "name": "stdout",
     "output_type": "stream",
     "text": [
      "\n",
      "1\n",
      "12\n",
      "123\n",
      "1234\n",
      "12345"
     ]
    }
   ],
   "source": [
    "for i in range(1,6):\n",
    "    print()\n",
    "    for j in range(1,1+i):\n",
    "        print(j,end=\"\")"
   ]
  },
  {
   "cell_type": "code",
   "execution_count": null,
   "id": "2a44669e-e59a-4aea-9812-6fb6a1ef0100",
   "metadata": {},
   "outputs": [],
   "source": [
    "#While Loop "
   ]
  },
  {
   "cell_type": "code",
   "execution_count": null,
   "id": "eae67dac-aa3e-4311-90af-e9b715e1020b",
   "metadata": {},
   "outputs": [],
   "source": [
    "i=1\n",
    "while (i>6):\n",
    "    print(i)\n",
    "    i=i+1"
   ]
  },
  {
   "cell_type": "code",
   "execution_count": null,
   "id": "b969a27b-fae8-411f-b4ba-ac2c1070ea0c",
   "metadata": {},
   "outputs": [],
   "source": [
    "\n"
   ]
  },
  {
   "cell_type": "code",
   "execution_count": null,
   "id": "1fbb36bf-9a5d-44c4-96f3-7946da6f51c5",
   "metadata": {},
   "outputs": [],
   "source": []
  }
 ],
 "metadata": {
  "kernelspec": {
   "display_name": "Python [conda env:base] *",
   "language": "python",
   "name": "conda-base-py"
  },
  "language_info": {
   "codemirror_mode": {
    "name": "ipython",
    "version": 3
   },
   "file_extension": ".py",
   "mimetype": "text/x-python",
   "name": "python",
   "nbconvert_exporter": "python",
   "pygments_lexer": "ipython3",
   "version": "3.12.7"
  }
 },
 "nbformat": 4,
 "nbformat_minor": 5
}
