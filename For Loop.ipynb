{
 "cells": [
  {
   "cell_type": "code",
   "execution_count": null,
   "id": "367a0d8e-9ac6-4651-80a5-72db5bb92eb4",
   "metadata": {},
   "outputs": [],
   "source": [
    "#Get two integers from user\n",
    "#print multiples of 8 between them\n",
    "\n",
    "#clues:\n",
    "#Use range function in for loop\n",
    "#Use if condition inside for loop\n",
    "#add in to list\n",
    "\n",
    "#input 10 100\n",
    "#multiples of 8\n",
    "\n",
    "#[16,24,32.....,96]"
   ]
  },
  {
   "cell_type": "code",
   "execution_count": 11,
   "id": "49487577-47aa-400b-b593-e9dd8ab923ea",
   "metadata": {},
   "outputs": [
    {
     "name": "stdin",
     "output_type": "stream",
     "text": [
      "enter a number 10\n",
      "enter a number 100\n"
     ]
    },
    {
     "name": "stdout",
     "output_type": "stream",
     "text": [
      "Multiples of 8: []\n"
     ]
    }
   ],
   "source": [
    "a=int(input(\"enter a number\"))\n",
    "b=int(input(\"enter a number\"))\n",
    "multiples_of_8 = []\n",
    "for i in range(a + 1, b):\n",
    "    if i % 8 == 0:\n",
    "        multiples_of_8.append(i)\n",
    "print(\"Multiples of 8:\", multiples_of_8)"
   ]
  },
  {
   "cell_type": "code",
   "execution_count": null,
   "id": "27d4d826-0593-4ac9-977b-811b33b89469",
   "metadata": {},
   "outputs": [],
   "source": [
    "#Task2:\n",
    "#Multiple index with list value \n",
    "#[2,5,6,8,12,13]\n",
    "#2*0 + 5*1 + 6*2 + 8*3 + 12*4 + 13*5 ==> \n",
    "#[2,5,6,8,12,13,2,2,0]\n",
    "#[1,1,1]"
   ]
  },
  {
   "cell_type": "code",
   "execution_count": 9,
   "id": "b896dae7-bf2b-44ca-b954-168d7bda8205",
   "metadata": {},
   "outputs": [
    {
     "name": "stdout",
     "output_type": "stream",
     "text": [
      "Final Result: 154\n"
     ]
    }
   ],
   "source": [
    "list1=[2,5,6,8,12,13]\n",
    "a=0\n",
    "for i in range(len(list1)):\n",
    "    a =a+i * list1[i]\n",
    "print(\"Final Result:\", a)"
   ]
  },
  {
   "cell_type": "code",
   "execution_count": null,
   "id": "5cbfc72a-a5f8-47d2-9290-87dfda113932",
   "metadata": {},
   "outputs": [],
   "source": [
    "#Task3:\n",
    "#Get a dynamic list from user"
   ]
  },
  {
   "cell_type": "code",
   "execution_count": 23,
   "id": "5dded268-2e62-4543-a2fd-cab2dbb85c35",
   "metadata": {},
   "outputs": [
    {
     "name": "stdin",
     "output_type": "stream",
     "text": [
      "enter 5 values 89\n",
      "enter 5 values 67\n",
      "enter 5 values 89\n",
      "enter 5 values 90\n",
      "enter 5 values 67\n"
     ]
    },
    {
     "name": "stdout",
     "output_type": "stream",
     "text": [
      "Dynamic List\n",
      "[89, 67, 89, 90, 67]\n"
     ]
    }
   ],
   "source": [
    "list=[]\n",
    "for i in range(1,6):\n",
    "    num=int(input(\"enter 5 values\"))\n",
    "    list.append(num)\n",
    "print(\"Dynamic List\")\n",
    "print(list)"
   ]
  },
  {
   "cell_type": "code",
   "execution_count": null,
   "id": "58f5928c-622a-479f-857b-1984dcdf535e",
   "metadata": {},
   "outputs": [],
   "source": [
    "#Task4:\n",
    "#Get a dynamic dictionary from user"
   ]
  },
  {
   "cell_type": "code",
   "execution_count": 29,
   "id": "52f50543-6b71-4af4-8976-26eddcd87a8b",
   "metadata": {},
   "outputs": [
    {
     "name": "stdin",
     "output_type": "stream",
     "text": [
      "Enter a number 3\n",
      "enter a key: 7\n",
      "enter a value: 7\n",
      "enter a key: 8\n",
      "enter a value: 9\n",
      "enter a key: 9\n",
      "enter a value: 7\n"
     ]
    },
    {
     "name": "stdout",
     "output_type": "stream",
     "text": [
      "Dynamic Dictionary\n",
      "{7: 7, 8: 9, 9: 7}\n"
     ]
    }
   ],
   "source": [
    "dict1={}\n",
    "a=int(input(\"Enter a number\"))\n",
    "for i in range(a):\n",
    "    key=int(input(\"enter a key:\"))\n",
    "    value=int(input(\"enter a value:\"))\n",
    "    dict1[key]=value\n",
    "print(\"Dynamic Dictionary\")\n",
    "print(dict1)"
   ]
  },
  {
   "cell_type": "code",
   "execution_count": null,
   "id": "15c1602f-1599-4e97-9269-0f56b39651ac",
   "metadata": {},
   "outputs": [],
   "source": [
    "#Task 6:\n",
    "#Input: Li1 = [3,4,5,2,7,8,9,10]\n",
    "#Output:\n",
    "#Li_odd = [3,5,7,9]\n",
    "#Li_even = [4,2,8,10]\n",
    "#Li1 = [3,4,5,2,7,8,9,10]"
   ]
  },
  {
   "cell_type": "code",
   "execution_count": 3,
   "id": "dfd107bf-d59b-467b-9a5b-960bd36880e3",
   "metadata": {},
   "outputs": [
    {
     "name": "stdout",
     "output_type": "stream",
     "text": [
      "Li_odd = [3, 5, 7, 9]\n",
      "Li_even = [4, 2, 8, 10]\n",
      "Li1 = [3, 4, 5, 2, 7, 8, 9, 10]\n"
     ]
    }
   ],
   "source": [
    "Li1 = [3, 4, 5, 2, 7, 8, 9, 10]\n",
    "Li_odd = []\n",
    "Li_even = []\n",
    "for i in Li1:\n",
    "    if i % 2 == 0:\n",
    "        Li_even.append(i)\n",
    "    else:\n",
    "        Li_odd.append(i)\n",
    "print(\"Li_odd =\", Li_odd)\n",
    "print(\"Li_even =\", Li_even)\n",
    "print(\"Li1 =\", Li1) "
   ]
  },
  {
   "cell_type": "code",
   "execution_count": null,
   "id": "2fbf2ade-b1f8-40c4-b2b5-ee962078f012",
   "metadata": {},
   "outputs": [],
   "source": [
    "#infinite Loop\n",
    "import itertools\n",
    "for i in itertools.count():\n",
    "    print(i)"
   ]
  }
 ],
 "metadata": {
  "kernelspec": {
   "display_name": "Python [conda env:base] *",
   "language": "python",
   "name": "conda-base-py"
  },
  "language_info": {
   "codemirror_mode": {
    "name": "ipython",
    "version": 3
   },
   "file_extension": ".py",
   "mimetype": "text/x-python",
   "name": "python",
   "nbconvert_exporter": "python",
   "pygments_lexer": "ipython3",
   "version": "3.12.7"
  }
 },
 "nbformat": 4,
 "nbformat_minor": 5
}
