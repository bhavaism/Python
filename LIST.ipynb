{
 "cells": [
  {
   "cell_type": "code",
   "execution_count": null,
   "id": "a1417a81-e72a-4935-96cb-6a65068721ba",
   "metadata": {},
   "outputs": [],
   "source": [
    "#Create an empty list (two ways)\n",
    "#Concatenate with [5,6,7,8]\n",
    "#add 8,9,1,5,6,7,8,1 elements to that list\n",
    "#Find frequency of 8 (count)\n",
    "#find the mean of the list\n",
    "#find sum (List) + min + Max \n",
    "#Find median of the list\n",
    "#remove duplicates from list and give output in the format of tuple\n"
   ]
  },
  {
   "cell_type": "code",
   "execution_count": 15,
   "id": "61e6516d-b0e1-4d2a-97f1-dcdbedc11a7a",
   "metadata": {},
   "outputs": [
    {
     "name": "stdin",
     "output_type": "stream",
     "text": [
      "enter a value 5,6,7,8\n"
     ]
    },
    {
     "name": "stdout",
     "output_type": "stream",
     "text": [
      "[5, 6, 7, 8, 8, 9, 1, 5, 6, 7, 8, 1]\n",
      "3\n",
      "5.916666666666667\n",
      "81\n",
      "(1, 5, 6, 7, 8, 9)\n"
     ]
    }
   ],
   "source": [
    "#Create an empty list (two ways)\n",
    "a=list()\n",
    "b=[]\n",
    "#Concatenate with [5,6,7,8]\n",
    "a.append(input(\"enter a value\"))\n",
    "#add 8,9,1,5,6,7,8,1 elements to that list\n",
    "list1=[5,6,7,8]\n",
    "list2=[8,9,1,5,6,7,8,1]\n",
    "list1.extend(list2)\n",
    "print(list1)\n",
    "#Find frequency of 8 (count)\n",
    "list3=list1.count(8)\n",
    "print(list3)\n",
    "#find the mean of the list\n",
    "list4=sum(list1)/len(list1)\n",
    "print(list4)\n",
    "#find sum (List) + min + Max \n",
    "list5=sum(list1)+min(list1)+max(list1)\n",
    "print(list5)\n",
    "#Find median of the list-doubt\n",
    "#list6=find_median=\n",
    "#remove duplicates from list and give output in the format of tuple\n",
    "list6=tuple(set(list1))\n",
    "print(list6)"
   ]
  },
  {
   "cell_type": "code",
   "execution_count": null,
   "id": "62346e73-42a8-4907-a25e-c4d0c4d61098",
   "metadata": {},
   "outputs": [],
   "source": []
  },
  {
   "cell_type": "code",
   "execution_count": null,
   "id": "dfb3af87-2c91-4cb8-ab46-a7b5d120fde2",
   "metadata": {},
   "outputs": [],
   "source": []
  },
  {
   "cell_type": "code",
   "execution_count": null,
   "id": "d8f9a610-830d-4e7d-b676-b7196f5d1e54",
   "metadata": {},
   "outputs": [],
   "source": []
  },
  {
   "cell_type": "code",
   "execution_count": null,
   "id": "b832dc4f-0eff-40fd-be09-85c55f08edfc",
   "metadata": {},
   "outputs": [],
   "source": []
  },
  {
   "cell_type": "code",
   "execution_count": null,
   "id": "eaf10524-9977-40fb-a7a7-763dec34e1cb",
   "metadata": {},
   "outputs": [],
   "source": []
  },
  {
   "cell_type": "code",
   "execution_count": null,
   "id": "486ebd63-9cf5-45b6-9802-eadb53a70af2",
   "metadata": {},
   "outputs": [],
   "source": [
    "Li1 = [2,3,4,5,[45,56,67,78,[111,222,333,[5555,3333,[10000,50000,\"python\",\"computer\"],1111,7777,8888],444,555,666,777],89,23,34]]\n",
    "\n",
    "\n",
    "5\n",
    "56\n",
    "222\n",
    "50000\n",
    "put\n",
    "5555\n",
    "7777\n",
    "666\n",
    "89\n",
    "on\n",
    "333\n",
    "3333"
   ]
  },
  {
   "cell_type": "code",
   "execution_count": 1,
   "id": "2552d567-27fb-40ce-bd9b-537502d9aec5",
   "metadata": {},
   "outputs": [
    {
     "name": "stdout",
     "output_type": "stream",
     "text": [
      "11\n"
     ]
    }
   ],
   "source": [
    "Li1 = [1,2,3,4,5,[11,22,33,44,55,[111,222,333,444],6666,7777],7777] \n",
    "print"
   ]
  },
  {
   "cell_type": "code",
   "execution_count": 111,
   "id": "a1c75376-d037-4f04-b247-0f4ee12c5fa4",
   "metadata": {},
   "outputs": [
    {
     "name": "stdout",
     "output_type": "stream",
     "text": [
      "(1, 4, 5, 6, 7, 8)\n",
      "(5, 6, 7, 8, 9)\n",
      "(8, 5, 6, 7)\n",
      "{1, 4, 5, 6, 7, 8, 9}\n",
      "10\n",
      "30\n"
     ]
    }
   ],
   "source": [
    "#Task6: Tuple\n",
    "#Create two tuples (1,4,5,6,7,8) (5,6,7,8,9)\n",
    "#Find the common elements between two tuples\n",
    "#Concatenate both tuples and remove duplicates from tuple\n",
    "#Find the index value of 9 (after concatenation)\n",
    "#multiply above elements 3 times\n",
    "\n",
    "#Create two tuples (1,4,5,6,7,8) (5,6,7,8,9)\n",
    "a=(1,4,5,6,7,8)\n",
    "b=(5,6,7,8,9)\n",
    "print(tuple(a))\n",
    "print(tuple(b))\n",
    "#Find the common elements between two tuples\n",
    "tuple1=set(a).intersection(set(b))\n",
    "print (tuple(tuple1))\n",
    "#Concatenate both tuples and remove duplicates from tuple\n",
    "tuple2=(a+b)\n",
    "tuple3=(set(tuple2))\n",
    "print(tuple3)\n",
    "#Find the index value of 9 (after concatenation)\n",
    "tuple4=tuple2.index(9)\n",
    "print(tuple4)\n",
    "#multiply above elements 3 times\n",
    "tuple5=(tuple4)*3\n",
    "print(tuple5)"
   ]
  },
  {
   "cell_type": "code",
   "execution_count": null,
   "id": "9a45e660-9d9b-492e-977b-952c6a23cad6",
   "metadata": {},
   "outputs": [],
   "source": [
    "#Create two empty sets\n",
    "#update set1 with 7,8,9,1,2,3,4,5,0\n",
    "#update set2 with 4,5,6,0\n",
    "#check whether set2 is subset of set1 or no ?\n",
    "#check whether both have common elements are no?\n",
    "#remove 8 from set 1 and set 2 ==> find the inferences\n",
    "#discard 0 from set1 and set2 \n",
    "#find collection of both sets ===> set1 and set2\n"
   ]
  },
  {
   "cell_type": "code",
   "execution_count": 9,
   "id": "58e74bbc-ae06-4cc8-a226-b2c877e1fcc6",
   "metadata": {},
   "outputs": [
    {
     "name": "stdout",
     "output_type": "stream",
     "text": [
      "set()\n",
      "set()\n",
      "{0, 1, 2, 3, 4, 5, 7, 8, 9}\n",
      "{0, 4, 5, 6}\n",
      "False\n",
      "{0, 1, 2, 3, 4, 5, 7, 9}\n",
      "{1, 2, 3, 4, 5, 7, 9}\n",
      "{4, 5, 6}\n",
      "{1, 2, 3, 4, 5, 6, 7, 9}\n"
     ]
    }
   ],
   "source": [
    "#Create two empty sets\n",
    "set1=set()\n",
    "set2=set()\n",
    "print(set1)\n",
    "print(set2)\n",
    "#update set1 with 7,8,9,1,2,3,4,5,0\n",
    "set1.update({7,8,9,1,2,3,4,5,0})\n",
    "set2.update({4,5,6,0})\n",
    "print(set1)\n",
    "print(set2)\n",
    "#check whether set2 is subset of set1 or no ?\n",
    "a=set2.issubset(set1)\n",
    "print(a)\n",
    "#check whether both have common elements are no?\n",
    "#remove 8 from set 1 and set 2 ==> find the inferences\n",
    "set1.remove(8)\n",
    "print(set1)\n",
    "#discard 0 from set1 and set2 \n",
    "set1.discard(0)\n",
    "set2.discard(0)\n",
    "print(set1)\n",
    "print(set2)\n",
    "#find collection of both sets ===> set1 and set2=doubt\n",
    "b=set1.union(set2)\n",
    "print(b)"
   ]
  },
  {
   "cell_type": "code",
   "execution_count": null,
   "id": "9d1065fd-70e3-49df-af41-1222e12944c8",
   "metadata": {},
   "outputs": [],
   "source": []
  },
  {
   "cell_type": "code",
   "execution_count": null,
   "id": "7b3e4dfd-d192-4c9a-935f-288994e6bd55",
   "metadata": {},
   "outputs": [],
   "source": []
  },
  {
   "cell_type": "code",
   "execution_count": null,
   "id": "5d940d60-b77c-4c14-b8d1-2453538f4857",
   "metadata": {},
   "outputs": [],
   "source": []
  },
  {
   "cell_type": "code",
   "execution_count": 115,
   "id": "b10cf3f9-6aae-46e7-b6d3-22177ca7861e",
   "metadata": {},
   "outputs": [
    {
     "ename": "IndexError",
     "evalue": "list index out of range",
     "output_type": "error",
     "traceback": [
      "\u001b[1;31m---------------------------------------------------------------------------\u001b[0m",
      "\u001b[1;31mIndexError\u001b[0m                                Traceback (most recent call last)",
      "Cell \u001b[1;32mIn[115], line 14\u001b[0m\n\u001b[0;32m      8\u001b[0m dict1\u001b[38;5;241m=\u001b[39m {\n\u001b[0;32m      9\u001b[0m     \u001b[38;5;241m1\u001b[39m:[\u001b[38;5;124m\"\u001b[39m\u001b[38;5;124menglish\u001b[39m\u001b[38;5;124m\"\u001b[39m,\u001b[38;5;124m\"\u001b[39m\u001b[38;5;124mmaths\u001b[39m\u001b[38;5;124m\"\u001b[39m,\u001b[38;5;124m\"\u001b[39m\u001b[38;5;124mscience\u001b[39m\u001b[38;5;124m\"\u001b[39m],\n\u001b[0;32m     10\u001b[0m     \u001b[38;5;241m2\u001b[39m:[\u001b[38;5;241m10\u001b[39m,\u001b[38;5;241m20\u001b[39m,\u001b[38;5;241m30\u001b[39m],\n\u001b[0;32m     11\u001b[0m     \u001b[38;5;241m3\u001b[39m:[\u001b[38;5;124m\"\u001b[39m\u001b[38;5;124mbio-botany\u001b[39m\u001b[38;5;124m\"\u001b[39m,\u001b[38;5;124m\"\u001b[39m\u001b[38;5;124mbio-zoology\u001b[39m\u001b[38;5;124m\"\u001b[39m,\u001b[38;5;124m\"\u001b[39m\u001b[38;5;124mAlgebra\u001b[39m\u001b[38;5;124m\"\u001b[39m]\n\u001b[0;32m     12\u001b[0m }\n\u001b[0;32m     13\u001b[0m \u001b[38;5;66;03m#Extract \"bobtn\" from above dictionary\u001b[39;00m\n\u001b[1;32m---> 14\u001b[0m dict2\u001b[38;5;241m=\u001b[39mdict1[\u001b[38;5;241m3\u001b[39m] [\u001b[38;5;241m5\u001b[39m] [\u001b[38;5;241m-\u001b[39m\u001b[38;5;241m1\u001b[39m]\n\u001b[0;32m     15\u001b[0m \u001b[38;5;28mprint\u001b[39m(dict2)\n",
      "\u001b[1;31mIndexError\u001b[0m: list index out of range"
     ]
    }
   ],
   "source": [
    "#create a dictionary\n",
    "#{1:[\"english\",\"maths\",\"science\"], 2:[10,20,30], 3:[\"bio-botany\",\"bio-zoology\",\"Algebra\"]}\n",
    "#Extract \"bobtn\" from above dictionary\n",
    "#Extract \"arbeg\" from above dictionary\n",
    "#print all keys in dictionary and convert it into tuple\n",
    "#Find the average of all numbers available under key \"2\"\n",
    "\n",
    "dict1=4 {\n",
    "    1:[\"english\",\"maths\",\"science\"],\n",
    "    2:[10,20,30],\n",
    "    3:[\"bio-botany\",\"bio-zoology\",\"Algebra\"]\n",
    "}\n",
    "#Extract \"bobtn\" from above dictionary\n",
    "\n"
   ]
  },
  {
   "cell_type": "code",
   "execution_count": 33,
   "id": "5e8607fb-2e1a-4308-977d-6d421db3ebed",
   "metadata": {},
   "outputs": [
    {
     "name": "stdout",
     "output_type": "stream",
     "text": [
      "science\n",
      "Computer\n"
     ]
    }
   ],
   "source": [
    "#a = [1,2,3,4,[100,101,102,\"Computer_science\"],200,203]\n",
    "#Extract\n",
    "#science\n",
    "#computer\n",
    "a = [1,2,3,4,[100,101,102,\"Computer_science\"],200,203]\n",
    "print(a[4][3][9:])\n",
    "print(a[4][3][0:8])\n"
   ]
  },
  {
   "cell_type": "code",
   "execution_count": null,
   "id": "904ba152-e754-43e6-b201-5297775ff9f3",
   "metadata": {},
   "outputs": [],
   "source": []
  }
 ],
 "metadata": {
  "kernelspec": {
   "display_name": "Python [conda env:base] *",
   "language": "python",
   "name": "conda-base-py"
  },
  "language_info": {
   "codemirror_mode": {
    "name": "ipython",
    "version": 3
   },
   "file_extension": ".py",
   "mimetype": "text/x-python",
   "name": "python",
   "nbconvert_exporter": "python",
   "pygments_lexer": "ipython3",
   "version": "3.12.7"
  }
 },
 "nbformat": 4,
 "nbformat_minor": 5
}
