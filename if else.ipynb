{
 "cells": [
  {
   "cell_type": "code",
   "execution_count": null,
   "id": "4571d92d-42a6-4ffe-be27-98ac4086371c",
   "metadata": {},
   "outputs": [],
   "source": [
    "if else"
   ]
  },
  {
   "cell_type": "code",
   "execution_count": 121,
   "id": "eb9284e3-6704-4c2b-94bb-452e6abf344b",
   "metadata": {},
   "outputs": [
    {
     "name": "stdin",
     "output_type": "stream",
     "text": [
      "Enter a Number 0\n"
     ]
    },
    {
     "name": "stdout",
     "output_type": "stream",
     "text": [
      "It is Zero\n"
     ]
    }
   ],
   "source": [
    "#Get a number from user check whether postive or negative\n",
    "num=float(input(\"Enter a Number\"))\n",
    "if(num>0):\n",
    "    print(\"Number is Positive\")\n",
    "elif(num<0):\n",
    "    print(\"Number is Negative\")\n",
    "else:\n",
    "    print(\"It is Zero\")"
   ]
  },
  {
   "cell_type": "code",
   "execution_count": 8,
   "id": "96539244-15a9-40e0-9c89-5d4ea80678c8",
   "metadata": {},
   "outputs": [
    {
     "name": "stdin",
     "output_type": "stream",
     "text": [
      "enter a number 5\n"
     ]
    },
    {
     "name": "stdout",
     "output_type": "stream",
     "text": [
      "Number is Odd\n"
     ]
    }
   ],
   "source": [
    "#Get a number from user check whether odd or even\n",
    "num=int(input(\"enter a number\"))\n",
    "if(num%2==0):\n",
    "    print(\"Number is Even\")\n",
    "else:\n",
    "    print(\"Number is Odd\")"
   ]
  },
  {
   "cell_type": "code",
   "execution_count": 49,
   "id": "18ce3d44-2adf-4e06-b66a-7ab046578da4",
   "metadata": {},
   "outputs": [
    {
     "name": "stdin",
     "output_type": "stream",
     "text": [
      "Enter a charater j\n"
     ]
    },
    {
     "name": "stdout",
     "output_type": "stream",
     "text": [
      "Character is LowerCase\n"
     ]
    }
   ],
   "source": [
    "#Get a character from user check whether small case or upper case\n",
    "a=input(\"Enter a charater\")\n",
    "if a.isupper():\n",
    "    print(\"Character is UpperCase\")\n",
    "elif a.lower():\n",
    "    print(\"Character is LowerCase\")"
   ]
  },
  {
   "cell_type": "code",
   "execution_count": 59,
   "id": "02a54834-1272-4958-9dd2-b8f3302cf204",
   "metadata": {},
   "outputs": [
    {
     "name": "stdin",
     "output_type": "stream",
     "text": [
      "enter a string Bhava\n"
     ]
    },
    {
     "name": "stdout",
     "output_type": "stream",
     "text": [
      "Length is Odd\n"
     ]
    }
   ],
   "source": [
    "#Get a string from user check whether length is even or odd\n",
    "a=input(\"enter a string\")\n",
    "b=len(a)\n",
    "if(b%2==0):\n",
    "    print(\"Length is Even\")\n",
    "else:\n",
    "    print(\"Length is Odd\")"
   ]
  },
  {
   "cell_type": "code",
   "execution_count": 74,
   "id": "fbaa1448-81f9-45c8-9ce7-78ca9fa48923",
   "metadata": {},
   "outputs": [
    {
     "name": "stdin",
     "output_type": "stream",
     "text": [
      "enter a list sara,saran,bhava,bhavani\n"
     ]
    },
    {
     "name": "stdout",
     "output_type": "stream",
     "text": [
      "Length is Even\n"
     ]
    }
   ],
   "source": [
    "#Get list from user check whether length is odd or even\n",
    "a=list(input(\"enter a list\"))\n",
    "b=len(a)\n",
    "if(b%2==0):\n",
    "    print(\"Length is Even\")\n",
    "else:\n",
    "    print(\"Length is Odd\")"
   ]
  },
  {
   "cell_type": "code",
   "execution_count": 10,
   "id": "f2620d75-5404-4209-af21-0cb26fd8d2c3",
   "metadata": {},
   "outputs": [
    {
     "name": "stdin",
     "output_type": "stream",
     "text": [
      "enter a string A\n"
     ]
    },
    {
     "name": "stdout",
     "output_type": "stream",
     "text": [
      "String is not a vowel\n"
     ]
    }
   ],
   "source": [
    "#program1\n",
    "#Get one string from user\n",
    "#extract middle letter of the string\n",
    "#check whether middle letter is vowel or no\n",
    "a=input(\"enter a string\")\n",
    "b=a[len(a)//2]\n",
    "if(b in \"a,e,i,o,u\"):\n",
    "    print(\"Middle Letter is Vowel\")\n",
    "else:\n",
    "    print(\"String is not a vowel\")"
   ]
  },
  {
   "cell_type": "code",
   "execution_count": 12,
   "id": "7a33a24a-56e2-42b1-9b98-8d7b0c9e68e0",
   "metadata": {},
   "outputs": [
    {
     "name": "stdin",
     "output_type": "stream",
     "text": [
      "enter a string python\n"
     ]
    },
    {
     "name": "stdout",
     "output_type": "stream",
     "text": [
      "h\n",
      "104\n",
      "Value is Even\n"
     ]
    }
   ],
   "source": [
    "#program2\n",
    "#Get one string from user\n",
    "#Find the middle letter\n",
    "#find ascii value for the middle letter\n",
    "#check whether ascii value is odd or even\n",
    "a=input(\"enter a string\")\n",
    "b=len(a)//2\n",
    "c=a[b]\n",
    "print(c)\n",
    "d=ord(c)\n",
    "print(d)\n",
    "if(d%2==0):\n",
    "    print(\"Value is Even\")\n",
    "else:\n",
    "    print(\"Value is Odd\")"
   ]
  },
  {
   "cell_type": "code",
   "execution_count": 154,
   "id": "271d52a3-f42e-41cc-b5c7-eeda82e1d709",
   "metadata": {},
   "outputs": [
    {
     "name": "stdin",
     "output_type": "stream",
     "text": [
      "enter a string to\n"
     ]
    },
    {
     "name": "stdout",
     "output_type": "stream",
     "text": [
      "Value is Even\n"
     ]
    }
   ],
   "source": [
    "#program3:\n",
    "#get one string from user\n",
    "#check whether length of the string is odd or even\n",
    "a=input(\"enter a string\")\n",
    "b=len(a)\n",
    "if(b%2==0):\n",
    "    print(\"Value is Even\")\n",
    "else:\n",
    "    print(\"Value is Odd\")"
   ]
  },
  {
   "cell_type": "code",
   "execution_count": null,
   "id": "9532a947-7d42-4457-9539-931ac825d878",
   "metadata": {},
   "outputs": [],
   "source": [
    "#program4:\n",
    "#Get one string from user\n",
    "#check whether string is palindrome or no\n"
   ]
  },
  {
   "cell_type": "code",
   "execution_count": 14,
   "id": "0089ebef-eca7-4481-a96a-84028ebfb611",
   "metadata": {},
   "outputs": [
    {
     "name": "stdin",
     "output_type": "stream",
     "text": [
      "Enter a String fly\n"
     ]
    },
    {
     "name": "stdout",
     "output_type": "stream",
     "text": [
      "string is not palindrome\n"
     ]
    }
   ],
   "source": [
    "a=input(\"Enter a String\")\n",
    "if(a==a[::-1]):\n",
    "    print(\"string is palindrome\")\n",
    "else:\n",
    "    print(\"string is not palindrome\")"
   ]
  },
  {
   "cell_type": "code",
   "execution_count": null,
   "id": "c55a2cfd-a99b-44ff-8e34-a47cd60ceb23",
   "metadata": {},
   "outputs": [],
   "source": [
    "#program5:\n",
    "#Get one mark from student\n",
    "#mark 0 to 100 otherwise invalid mark\n",
    "\n",
    "#50 + PASS otherwise FAIL\n",
    "#90 to 100 ===> A  ==> Even + Odd -\n",
    "#80 to 89 ===> B\n",
    "#70 to 79 ===> C\n",
    "#60 to 69 ===> D\n",
    "#50 to 59 ===> E\n",
    "\n",
    "#0 to 49 ===> FAIL\n",
    "\n",
    "\n",
    "#93 ===> A-\n",
    "#99 ===> A-\n",
    "#88 ====> B+\n",
    "\n",
    "#78\n",
    "\n",
    "#VALID MARK\n",
    "#PASS MARK\n",
    "#B+\n",
    "\n",
    "mark=int(input(\"enter a number:\"))\n",
    "#mark 0 to 100 otherwise invalid mark\n",
    "if 0 <= mark <= 100:\n",
    "    print(\"Invalid Mark\")\n",
    "else:\n",
    "    print(\"Valid Mark\")\n",
    "#50 + PASS otherwise FAIL\n",
    "if(mark<50):\n",
    "    print(\"Fail\")\n",
    "#Even + Odd -\n",
    "if mark%2==0:\n",
    "    print(\"Even+\")\n",
    "else:\n",
    "    print(\"Odd-\")\n",
    "#90 to 100 ===> A  \n",
    "#80 to 89 ===> B\n",
    "#70 to 79 ===> C\n",
    "#60 to 69 ===> D\n",
    "#50 to 59 ===> E\n",
    "if 90 <= mark <= 100:\n",
    "    print(\"Grade A\")\n",
    "elif 80 <= mark <= 89:\n",
    "    print(\"Grade B\")\n",
    "elif 70 <= mark <= 79:\n",
    "    print(\"Grade C\")\n",
    "elif 60 <= mark <= 69:\n",
    "    print(\"Grade D\")\n",
    "elif 50 <= mark <= 59:\n",
    "    print(\"Grade E\")\n",
    "#93 ===> A-\n",
    "#99 ===> A-\n",
    "#88 ====> B+\n",
    "if(mark==93):\n",
    "    print(\"A-\")\n",
    "if(mark==99):\n",
    "    print(\"A+\")\n",
    "if(mark==88):\n",
    "    print(\"B+\")"
   ]
  },
  {
   "cell_type": "code",
   "execution_count": null,
   "id": "bb535345-34ff-4dcf-b089-b1f9c38d46eb",
   "metadata": {},
   "outputs": [],
   "source": [
    "#Li1 = [2,3,4,5,6,7,10,11,12,15,2,10000]\n",
    "#even\n",
    "#i) sort() [2, 2, 3, 4, 5, 6, 7, 10, 11, 12, 15, 10000]\n",
    "#ii) Find two middle numbers 6,7\n",
    "#ii) average of two numbers 6.5\n",
    "#Odd\n",
    "#i) sort() [2, 2, 3, 4, 5, 6, 7, 10, 11, 12, 15, 10000]\n",
    "#ii) [2, 2, 3, 4, 5, 6, 7, 10, 11, 12, 14, 15, 10000]\n",
    "#Li2 = [2,3,4,5,6,7,10,11,12,15,2,10000,14]\n"
   ]
  },
  {
   "cell_type": "code",
   "execution_count": 47,
   "id": "03993e55-3e97-49a1-b99b-ba508f543f0b",
   "metadata": {},
   "outputs": [
    {
     "name": "stdout",
     "output_type": "stream",
     "text": [
      "[2, 2, 3, 4, 5, 6, 7, 10, 11, 12, 15, 10000]\n",
      "6 7\n",
      "6.5\n",
      "[2, 2, 3, 4, 5, 6, 7, 10, 11, 12, 14, 15, 10000]\n",
      "7\n"
     ]
    }
   ],
   "source": [
    "li1 = [2,3,4,5,6,7,10,11,12,15,2,10000]\n",
    "#even\n",
    "#i) sort() [2, 2, 3, 4, 5, 6, 7, 10, 11, 12, 15, 10000]\n",
    "li1.sort()\n",
    "print(li1)\n",
    "#ii) Find two middle numbers 6,7\n",
    "a=li1[len(li1)//2]\n",
    "b=(li1[5])\n",
    "print(b,a)\n",
    "#ii) average of two numbers 6.5\n",
    "c=(a+b)/2\n",
    "print(c)\n",
    "#Odd\n",
    "#i) sort() [2, 2, 3, 4, 5, 6, 7, 10, 11, 12, 15, 10000]\n",
    "li2=[2,3,4,5,6,7,10,11,12,15,2,10000,14]\n",
    "li2.sort()\n",
    "print(li2)\n",
    "d=li1[len(li1)//2]\n",
    "print(d)"
   ]
  },
  {
   "cell_type": "code",
   "execution_count": null,
   "id": "4b3a4f14-b7c7-4b32-b1ae-39dd0f601183",
   "metadata": {},
   "outputs": [],
   "source": [
    "#Write a Python program to convert month name to a number of days."
   ]
  },
  {
   "cell_type": "code",
   "execution_count": 49,
   "id": "bf3f5dee-6647-4836-af7b-b93831e54f02",
   "metadata": {},
   "outputs": [
    {
     "name": "stdin",
     "output_type": "stream",
     "text": [
      "Enter a month May\n"
     ]
    },
    {
     "name": "stdout",
     "output_type": "stream",
     "text": [
      "Number of Days is 31\n"
     ]
    }
   ],
   "source": [
    "month_name=input((\"Enter a month\"))\n",
    "if month_name==\"January\":\n",
    "    print(\"Number of Days is 31\")\n",
    "elif month_name==\"February\":\n",
    "    print(\"Number of Days is 28\")\n",
    "elif month_name==\"March\":\n",
    "    print(\"Number of Days is 31\")\n",
    "elif month_name==\"April\":\n",
    "    print(\"Number of Days is 30\")\n",
    "elif month_name==\"May\":\n",
    "    print(\"Number of Days is 31\")\n",
    "elif month_name==\"June\":\n",
    "    print(\"Number of Days is 30\")\n",
    "elif month_name==\"July\":\n",
    "    print(\"Number of Days is 31\")\n",
    "elif month_name==\"August\":\n",
    "    print(\"Number of Days is 31\")\n",
    "elif month_name==\"Septmber\":\n",
    "    print(\"Number of Days is 30\")\n",
    "elif month_name==\"October\":\n",
    "    print(\"Number of Days is 31\")\n",
    "elif month_name==\"November\":\n",
    "    print(\"Number of Days is 30\")\n",
    "elif month_name==\"December\":\n",
    "    print(\"Number of Days is 31\")\n",
    "else:\n",
    "    print(\"Invalid Month\")"
   ]
  },
  {
   "cell_type": "code",
   "execution_count": null,
   "id": "4abe6dbd-52f1-4ef8-9914-3d712bbd7a56",
   "metadata": {},
   "outputs": [],
   "source": [
    "#Get one month from user\n",
    "#April ==> 30\n",
    "#gggg ==> Invalid month valid month\n",
    "#feb ==> 28  ? \n",
    "#please enter year ? \n",
    "#%4 ==> leap year 2004 2008 2012 2100==> not leap year\n",
    "#2000 2100 2200 2300 2400 2500 ==> multiplied by 400 also"
   ]
  },
  {
   "cell_type": "code",
   "execution_count": 3,
   "id": "dc2c632c-38a3-4962-b911-6962de6592af",
   "metadata": {},
   "outputs": [
    {
     "name": "stdin",
     "output_type": "stream",
     "text": [
      "Enter a month april\n"
     ]
    },
    {
     "name": "stdout",
     "output_type": "stream",
     "text": [
      "Number of Days is 30\n"
     ]
    },
    {
     "name": "stdin",
     "output_type": "stream",
     "text": [
      "Enter the year 2100\n"
     ]
    },
    {
     "name": "stdout",
     "output_type": "stream",
     "text": [
      "Its not Leap Year\n"
     ]
    }
   ],
   "source": [
    "#April ==> 30\n",
    "#gggg ==> Invalid month valid month\n",
    "month_name=input((\"Enter a month\"))\n",
    "if month_name==\"april\":\n",
    "    print(\"Number of Days is 30\")\n",
    "else:\n",
    "    print(\"Invalid Month\")\n",
    "#%4 ==> leap year 2004 2008 2012 2100==> not leap year\n",
    "#2000 2100 2200 2300 2400 2500 ==> multiplied by 400 also\n",
    "year=int(input(\"Enter the year\"))\n",
    "if year % 4 == 0 and year % 100 == 0 and year % 400 == 0:\n",
    "    print(\"It is Leap Year\")\n",
    "else:\n",
    "    print(\"Its not Leap Year\")"
   ]
  },
  {
   "cell_type": "code",
   "execution_count": null,
   "id": "3d193c12-fd98-403b-8071-0893feced44b",
   "metadata": {},
   "outputs": [],
   "source": []
  },
  {
   "cell_type": "code",
   "execution_count": null,
   "id": "5dc4cb59-aff6-4d14-94b9-68c07cd64ebd",
   "metadata": {},
   "outputs": [],
   "source": [
    "#input: get a colour user\n",
    "#VIBGYOR\n",
    "#INDIGO  ==> it's available in rainbow and colour number is 2\n",
    "#Rose  ==> IT's not available and no colour code"
   ]
  },
  {
   "cell_type": "code",
   "execution_count": 55,
   "id": "478a430e-96d4-4720-b71c-234e80946a8b",
   "metadata": {},
   "outputs": [
    {
     "name": "stdin",
     "output_type": "stream",
     "text": [
      "Enter your Colour yellow\n"
     ]
    },
    {
     "name": "stdout",
     "output_type": "stream",
     "text": [
      "Its available in rainbow and colour number is 5\n"
     ]
    }
   ],
   "source": [
    "colour=input(\"Enter your Colour\")\n",
    "#VIBGYOR\n",
    "vibgyor = (\"violet\", \"indigo\", \"blue\", \"green\", \"yellow\", \"orange\", \"red\")\n",
    "#INDIGO  ==> it's available in rainbow and colour number is 2\n",
    "if (colour==\"violet\"):\n",
    "    print(\"Its available in rainbow and colour number is 1\")\n",
    "elif (colour==\"indigo\"):\n",
    "    print(\"Its available in rainbow and colour number is 2\")\n",
    "elif (colour==\"blue\"):\n",
    "    print(\"Its available in rainbow and colour number is 3\")\n",
    "elif (colour==\"green\"):\n",
    "    print(\"Its available in rainbow and colour number is 4\")\n",
    "elif (colour==\"yellow\"):\n",
    "    print(\"Its available in rainbow and colour number is 5\")\n",
    "elif(colour==\"orange\"):\n",
    "    print(\"Its available in rainbow and colour number is 6\")\n",
    "elif (colour==\"red\"):\n",
    "    print(\"Its available in rainbow and colour number is 7\")\n",
    "else:\n",
    "    print(\"Its not available and no colour code\")"
   ]
  },
  {
   "cell_type": "code",
   "execution_count": null,
   "id": "9ee8cd66-fa46-4529-94fc-345c278c0921",
   "metadata": {},
   "outputs": [],
   "source": []
  },
  {
   "cell_type": "code",
   "execution_count": null,
   "id": "83d909af-7c6e-4a00-8090-ae6ec800cfaa",
   "metadata": {},
   "outputs": [],
   "source": [
    "#Get a character from user (alphabet, small, upper, number, special char)\n",
    "#Find whatis that"
   ]
  },
  {
   "cell_type": "code",
   "execution_count": 79,
   "id": "15388c68-bf5b-45f1-80d8-21309fb8f87e",
   "metadata": {},
   "outputs": [
    {
     "name": "stdin",
     "output_type": "stream",
     "text": [
      "enter a single Character:  3\n"
     ]
    },
    {
     "name": "stdout",
     "output_type": "stream",
     "text": [
      "Character is Number\n"
     ]
    }
   ],
   "source": [
    "char=input(\"enter a single Character: \")\n",
    "if (char.isupper()):\n",
    "    print(\"Character is Upper\")\n",
    "elif (char.islower()):\n",
    "    print(\"Character is Lower\")\n",
    "elif (char.isdigit()):\n",
    "    print(\"Character is Number\")\n",
    "else:\n",
    "    print(\"Character is Special Char\")"
   ]
  },
  {
   "cell_type": "code",
   "execution_count": null,
   "id": "146498c2-7eb1-440a-af7e-bba48a3bed79",
   "metadata": {},
   "outputs": [],
   "source": [
    "#anagram\n",
    "#i) get two strings from user\n",
    "#str1: pot str2: top ==> anagrams\n",
    "#str1: python  str2: java ==> not anagrams\n",
    "#str1 abcd  str2: cdab  ===> anagram"
   ]
  },
  {
   "cell_type": "code",
   "execution_count": 105,
   "id": "b280f507-c02c-4512-9550-b0e5aa265d58",
   "metadata": {},
   "outputs": [
    {
     "name": "stdin",
     "output_type": "stream",
     "text": [
      "Enter a String: abcd\n",
      "Enter a String: cdab\n"
     ]
    },
    {
     "name": "stdout",
     "output_type": "stream",
     "text": [
      "The word is Anagram\n"
     ]
    }
   ],
   "source": [
    "st1=input(\"Enter a String:\")\n",
    "st2=input(\"Enter a String:\")\n",
    "a=sorted(st1)\n",
    "b=sorted(st2)\n",
    "if(a==b):\n",
    "    print(\"The word is Anagram\")\n",
    "else:\n",
    "    print(\"The word is not Anagram\")"
   ]
  },
  {
   "cell_type": "code",
   "execution_count": 111,
   "id": "785a066a-90e2-4221-9725-a51f06aa3b36",
   "metadata": {},
   "outputs": [
    {
     "name": "stdin",
     "output_type": "stream",
     "text": [
      "Enter a month March\n"
     ]
    },
    {
     "name": "stdout",
     "output_type": "stream",
     "text": [
      "NO NON VEG\n"
     ]
    }
   ],
   "source": [
    "#i)Month name\n",
    "#complete restrictions: december, january, march  ===> No nonveg\n",
    "#Partial restriction: august, september, november ===> get week day from user ==> friday/tuesday no nonveg Other days: Non veg\n",
    "#Other months: No restiction: Non veg\n",
    "\n",
    "month=input(\"Enter a month\")\n",
    "strict_month=(\"December\", \"January\", \"March\")\n",
    "partial_month=(\"august\", \"September\", \"November\")\n",
    "no_restiction=(\"may\", \"April\", \"june\", \"july\", \"October\")\n",
    "if month in strict_month:\n",
    "    print(\"NO NON VEG\")\n",
    "elif month in partial_month:\n",
    "    day=input(\"Enter the day\")\n",
    "    if day in (\"tuesday\", \"Friday\"):\n",
    "        print(\"There is NO NON VEG\")\n",
    "    else:\n",
    "        print(\"Will Provide NON VEG\")\n",
    "elif month in no_restiction:\n",
    "    print(\"Will Provide NON VEG\")"
   ]
  },
  {
   "cell_type": "code",
   "execution_count": null,
   "id": "8bfb8136-3941-4930-b547-cfc08597eb37",
   "metadata": {},
   "outputs": [],
   "source": []
  }
 ],
 "metadata": {
  "kernelspec": {
   "display_name": "Python [conda env:base] *",
   "language": "python",
   "name": "conda-base-py"
  },
  "language_info": {
   "codemirror_mode": {
    "name": "ipython",
    "version": 3
   },
   "file_extension": ".py",
   "mimetype": "text/x-python",
   "name": "python",
   "nbconvert_exporter": "python",
   "pygments_lexer": "ipython3",
   "version": "3.12.7"
  }
 },
 "nbformat": 4,
 "nbformat_minor": 5
}
